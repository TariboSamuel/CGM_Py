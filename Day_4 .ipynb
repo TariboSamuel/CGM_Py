{
 "cells": [
  {
   "cell_type": "code",
   "execution_count": 1,
   "id": "74ba2694",
   "metadata": {},
   "outputs": [
    {
     "name": "stdout",
     "output_type": "stream",
     "text": [
      "The Zen of Python, by Tim Peters\n",
      "\n",
      "Beautiful is better than ugly.\n",
      "Explicit is better than implicit.\n",
      "Simple is better than complex.\n",
      "Complex is better than complicated.\n",
      "Flat is better than nested.\n",
      "Sparse is better than dense.\n",
      "Readability counts.\n",
      "Special cases aren't special enough to break the rules.\n",
      "Although practicality beats purity.\n",
      "Errors should never pass silently.\n",
      "Unless explicitly silenced.\n",
      "In the face of ambiguity, refuse the temptation to guess.\n",
      "There should be one-- and preferably only one --obvious way to do it.\n",
      "Although that way may not be obvious at first unless you're Dutch.\n",
      "Now is better than never.\n",
      "Although never is often better than *right* now.\n",
      "If the implementation is hard to explain, it's a bad idea.\n",
      "If the implementation is easy to explain, it may be a good idea.\n",
      "Namespaces are one honking great idea -- let's do more of those!\n"
     ]
    }
   ],
   "source": [
    "import this\n"
   ]
  },
  {
   "cell_type": "code",
   "execution_count": 3,
   "id": "40f430c4",
   "metadata": {},
   "outputs": [
    {
     "data": {
      "text/plain": [
       "'C:\\\\Users\\\\Taribo Samuel\\\\Desktop\\\\Python_Datascience'"
      ]
     },
     "execution_count": 3,
     "metadata": {},
     "output_type": "execute_result"
    }
   ],
   "source": [
    "pwd\n"
   ]
  },
  {
   "cell_type": "code",
   "execution_count": 4,
   "id": "effc337e",
   "metadata": {},
   "outputs": [
    {
     "name": "stdout",
     "output_type": "stream",
     "text": [
      " Volume in drive C has no label.\n",
      " Volume Serial Number is 2EFC-5DD0\n",
      "\n",
      " Directory of C:\\Users\\Taribo Samuel\\Desktop\\Python_Datascience\n",
      "\n",
      "06/20/2022  12:50 PM    <DIR>          .\n",
      "06/20/2022  12:50 PM    <DIR>          ..\n",
      "06/20/2022  12:50 PM    <DIR>          .ipynb_checkpoints\n",
      "06/19/2022  11:44 PM             6,372 Assignment 1-manipulating matrices .ipynb\n",
      "06/16/2022  07:44 AM             6,772 Day 1.ipynb\n",
      "06/19/2022  10:46 PM            11,155 Day 2.ipynb\n",
      "06/18/2022  06:18 PM            12,896 Day 3.ipynb\n",
      "06/20/2022  12:49 PM                72 Day 4.ipynb\n",
      "06/17/2022  03:09 PM    <DIR>          GaminatorPy\n",
      "06/17/2022  03:58 PM             4,214 Matrix.ipynb\n",
      "06/20/2022  12:37 PM    <DIR>          text_folder\n",
      "06/20/2022  12:39 PM    <DIR>          train_folder\n",
      "06/16/2022  05:49 PM             6,938 Workbook 1.0.ipynb\n",
      "               7 File(s)         48,419 bytes\n",
      "               6 Dir(s)  257,871,060,992 bytes free\n"
     ]
    }
   ],
   "source": [
    "ls\n"
   ]
  },
  {
   "cell_type": "code",
   "execution_count": 8,
   "id": "22ffeca4",
   "metadata": {},
   "outputs": [
    {
     "name": "stderr",
     "output_type": "stream",
     "text": [
      "A subdirectory or file data_files already exists.\n"
     ]
    }
   ],
   "source": [
    "mkdir data_files"
   ]
  },
  {
   "cell_type": "code",
   "execution_count": 10,
   "id": "9d79ab0f",
   "metadata": {},
   "outputs": [
    {
     "name": "stdout",
     "output_type": "stream",
     "text": [
      "[WinError 2] The system cannot find the file specified: 'data_files'\n",
      "C:\\Users\\Taribo Samuel\\Desktop\\Python_Datascience\\data_files\n"
     ]
    }
   ],
   "source": [
    "cd data_files"
   ]
  },
  {
   "cell_type": "code",
   "execution_count": 11,
   "id": "22f7cfe0",
   "metadata": {},
   "outputs": [
    {
     "name": "stdout",
     "output_type": "stream",
     "text": [
      " Volume in drive C has no label.\n",
      " Volume Serial Number is 2EFC-5DD0\n",
      "\n",
      " Directory of C:\\Users\\Taribo Samuel\\Desktop\\Python_Datascience\\data_files\n",
      "\n",
      "06/20/2022  12:51 PM    <DIR>          .\n",
      "06/20/2022  12:51 PM    <DIR>          ..\n",
      "06/20/2022  12:37 PM    <DIR>          text_folder\n",
      "06/20/2022  12:39 PM    <DIR>          train_folder\n",
      "               0 File(s)              0 bytes\n",
      "               4 Dir(s)  257,867,423,744 bytes free\n"
     ]
    }
   ],
   "source": [
    "ls\n"
   ]
  },
  {
   "cell_type": "code",
   "execution_count": 6,
   "id": "dc8fe7c1",
   "metadata": {},
   "outputs": [
    {
     "name": "stdout",
     "output_type": "stream",
     "text": [
      "['hello', 'thanks', 'hi', 'go here']\n"
     ]
    }
   ],
   "source": [
    "file_path = \"C:/Users/Taribo Samuel/Desktop/Python_Datascience/data_files/new_text.txt\"\n",
    "#reading the file path\n",
    "with open(file_path, \"r\") as file:\n",
    "    r_file = file.read().split(\"/n\")\n",
    "print(r_file)"
   ]
  },
  {
   "cell_type": "code",
   "execution_count": 7,
   "id": "d9ed7944",
   "metadata": {},
   "outputs": [],
   "source": [
    "import os"
   ]
  },
  {
   "cell_type": "code",
   "execution_count": 11,
   "id": "49bf654b",
   "metadata": {},
   "outputs": [
    {
     "ename": "NotADirectoryError",
     "evalue": "[WinError 267] The directory name is invalid: 'C:/Users/Taribo Samuel/Desktop/Python_Datascience/data_files/new_data/pressure_law.txt'",
     "output_type": "error",
     "traceback": [
      "\u001b[1;31m---------------------------------------------------------------------------\u001b[0m",
      "\u001b[1;31mNotADirectoryError\u001b[0m                        Traceback (most recent call last)",
      "\u001b[1;32mC:\\Users\\TARIBO~1\\AppData\\Local\\Temp/ipykernel_7200/4127919544.py\u001b[0m in \u001b[0;36m<module>\u001b[1;34m\u001b[0m\n\u001b[0;32m      9\u001b[0m \u001b[1;31m#print(path_file)\u001b[0m\u001b[1;33m\u001b[0m\u001b[1;33m\u001b[0m\u001b[0m\n\u001b[0;32m     10\u001b[0m \u001b[1;31m#this line is creating the path file by adding i + path + \"/\"\u001b[0m\u001b[1;33m\u001b[0m\u001b[1;33m\u001b[0m\u001b[0m\n\u001b[1;32m---> 11\u001b[1;33m     \u001b[0mfile_val\u001b[0m \u001b[1;33m=\u001b[0m \u001b[0mos\u001b[0m\u001b[1;33m.\u001b[0m\u001b[0mlistdir\u001b[0m\u001b[1;33m(\u001b[0m\u001b[0mpath_file\u001b[0m\u001b[1;33m)\u001b[0m\u001b[1;33m\u001b[0m\u001b[1;33m\u001b[0m\u001b[0m\n\u001b[0m\u001b[0;32m     12\u001b[0m \u001b[1;31m#now storing the path_file in file_val\u001b[0m\u001b[1;33m\u001b[0m\u001b[1;33m\u001b[0m\u001b[0m\n\u001b[0;32m     13\u001b[0m \u001b[1;31m#     print(file_val)\u001b[0m\u001b[1;33m\u001b[0m\u001b[1;33m\u001b[0m\u001b[0m\n",
      "\u001b[1;31mNotADirectoryError\u001b[0m: [WinError 267] The directory name is invalid: 'C:/Users/Taribo Samuel/Desktop/Python_Datascience/data_files/new_data/pressure_law.txt'"
     ]
    }
   ],
   "source": [
    "all_data = []\n",
    "path = \"C:/Users/Taribo Samuel/Desktop/Python_Datascience/data_files/new_data\"\n",
    "list_path = os.listdir(path)\n",
    "# print(list_path)\n",
    "#this line lists all the elements in the directory-path\n",
    "for i in list_path:\n",
    "    path_file = path + \"/\" + i\n",
    "#i can be likened to the folders (train and text folder)\n",
    "#print(path_file)\n",
    "#this line is creating the path file by adding i + path + \"/\"\n",
    "    file_val = os.listdir(path_file)\n",
    "#now storing the path_file in file_val\n",
    "#     print(file_val)\n",
    "    new_path = path_file + \"/\" + file_val[-1]\n",
    "#this line now creates a new path and adds the file_val to it    \n",
    "    print(new_path)\n",
    "    with open(new_path, \"r\") as file:\n",
    "        a = file.read().split()\n",
    "        all_data.append(a)\n",
    "#appending a into all_data        \n",
    "# print(all_data)\n",
    "new_data = []\n",
    "#created an aempty list and called it new_data\n",
    "for i in all_data:\n",
    "    a_b = []\n",
    "    for n in i:\n",
    "        b = float(n)\n",
    "        a_b.append(b)\n",
    "    new_data.append(a_b)\n",
    "print(new_data)\n",
    "#to return all the elements in the lists\n",
    "    \n"
   ]
  },
  {
   "cell_type": "code",
   "execution_count": 61,
   "id": "0f45e761",
   "metadata": {},
   "outputs": [
    {
     "name": "stdout",
     "output_type": "stream",
     "text": [
      "[[1.0, 2.0, 4.0, 5.0, 6.0, 9.0, 2.5], [1.0, 2.0, 3.0, 4.0, 5.0, 6.0, 7.0]]\n"
     ]
    }
   ],
   "source": [
    "data_val = []\n",
    "for i in new_data:\n",
    "    if len(i) < 7:\n",
    "        i.append(2.5)\n",
    "    data_val.append(i)\n",
    "print(data_val)\n",
    "#since the lengths are not equal, using a conditional statement, add 2.5 to the one with length < 7"
   ]
  },
  {
   "cell_type": "code",
   "execution_count": 12,
   "id": "6b690be6",
   "metadata": {},
   "outputs": [
    {
     "name": "stdout",
     "output_type": "stream",
     "text": [
      "Enter the commands\n",
      "press 1 => to write files\n",
      "press 0 => to clear backlogs\n",
      "\n",
      "enter commands: 1\n"
     ]
    },
    {
     "ename": "NameError",
     "evalue": "name 'data_val' is not defined",
     "output_type": "error",
     "traceback": [
      "\u001b[1;31m---------------------------------------------------------------------------\u001b[0m",
      "\u001b[1;31mNameError\u001b[0m                                 Traceback (most recent call last)",
      "\u001b[1;32mC:\\Users\\TARIBO~1\\AppData\\Local\\Temp/ipykernel_7200/1322239342.py\u001b[0m in \u001b[0;36m<module>\u001b[1;34m\u001b[0m\n\u001b[0;32m      8\u001b[0m \u001b[1;32mif\u001b[0m \u001b[0menter_press\u001b[0m \u001b[1;33m==\u001b[0m \u001b[1;34m\"1\"\u001b[0m\u001b[1;33m:\u001b[0m\u001b[1;33m\u001b[0m\u001b[1;33m\u001b[0m\u001b[0m\n\u001b[0;32m      9\u001b[0m     \u001b[0mfile_w\u001b[0m \u001b[1;33m=\u001b[0m \u001b[0mopen\u001b[0m\u001b[1;33m(\u001b[0m\u001b[0mnew_file\u001b[0m\u001b[1;33m,\u001b[0m \u001b[1;34m\"a\"\u001b[0m\u001b[1;33m)\u001b[0m\u001b[1;33m\u001b[0m\u001b[1;33m\u001b[0m\u001b[0m\n\u001b[1;32m---> 10\u001b[1;33m     \u001b[1;32mfor\u001b[0m \u001b[0mi\u001b[0m \u001b[1;32min\u001b[0m \u001b[0mrange\u001b[0m\u001b[1;33m(\u001b[0m\u001b[1;36m0\u001b[0m\u001b[1;33m,\u001b[0m \u001b[0mlen\u001b[0m\u001b[1;33m(\u001b[0m\u001b[0mdata_val\u001b[0m\u001b[1;33m[\u001b[0m\u001b[1;36m1\u001b[0m\u001b[1;33m]\u001b[0m\u001b[1;33m)\u001b[0m\u001b[1;33m)\u001b[0m\u001b[1;33m:\u001b[0m\u001b[1;33m\u001b[0m\u001b[1;33m\u001b[0m\u001b[0m\n\u001b[0m\u001b[0;32m     11\u001b[0m         \u001b[0mk_p\u001b[0m \u001b[1;33m=\u001b[0m \u001b[0mdata_val\u001b[0m\u001b[1;33m[\u001b[0m\u001b[1;36m0\u001b[0m\u001b[1;33m]\u001b[0m\u001b[1;33m[\u001b[0m\u001b[0mi\u001b[0m\u001b[1;33m]\u001b[0m\u001b[1;33m/\u001b[0m\u001b[0mdata_val\u001b[0m\u001b[1;33m[\u001b[0m\u001b[1;36m1\u001b[0m\u001b[1;33m]\u001b[0m\u001b[1;33m[\u001b[0m\u001b[0mi\u001b[0m\u001b[1;33m]\u001b[0m\u001b[1;33m\u001b[0m\u001b[1;33m\u001b[0m\u001b[0m\n\u001b[0;32m     12\u001b[0m \u001b[1;31m#arithmetic (division) operation\u001b[0m\u001b[1;33m\u001b[0m\u001b[1;33m\u001b[0m\u001b[0m\n",
      "\u001b[1;31mNameError\u001b[0m: name 'data_val' is not defined"
     ]
    }
   ],
   "source": [
    "new_file = \"C:/Users/Taribo Samuel/Desktop/Python_Datascience/data_files/new_data/pressure_law.txt\"\n",
    "print(\"\"\"Enter the commands\n",
    "press 1 => to write files\n",
    "press 0 => to clear backlogs\n",
    "\"\"\")\n",
    "enter_press = input(\"enter commands: \")\n",
    "\n",
    "if enter_press == \"1\":\n",
    "    file_w = open(new_file, \"a\")\n",
    "    for i in range(0, len(data_val[1])):\n",
    "        k_p = data_val[0][i]/data_val[1][i]\n",
    "#arithmetic (division) operation\n",
    "        file_w.write(f\"{k_p}\\n\")\n",
    "#to a new line\n",
    "elif enter_press == \"0\":\n",
    "     file_w = open(new_file, \"w\")\n",
    "     file_w.write(\" \")\n",
    "else:\n",
    "    print(\"inputs invalid\")"
   ]
  },
  {
   "cell_type": "code",
   "execution_count": null,
   "id": "7864d20e",
   "metadata": {},
   "outputs": [],
   "source": []
  },
  {
   "cell_type": "code",
   "execution_count": null,
   "id": "9f52f045",
   "metadata": {},
   "outputs": [],
   "source": []
  },
  {
   "cell_type": "code",
   "execution_count": null,
   "id": "af7488df",
   "metadata": {},
   "outputs": [],
   "source": []
  },
  {
   "cell_type": "code",
   "execution_count": null,
   "id": "bcbb4088",
   "metadata": {},
   "outputs": [],
   "source": []
  }
 ],
 "metadata": {
  "kernelspec": {
   "display_name": "Python 3 (ipykernel)",
   "language": "python",
   "name": "python3"
  },
  "language_info": {
   "codemirror_mode": {
    "name": "ipython",
    "version": 3
   },
   "file_extension": ".py",
   "mimetype": "text/x-python",
   "name": "python",
   "nbconvert_exporter": "python",
   "pygments_lexer": "ipython3",
   "version": "3.9.7"
  }
 },
 "nbformat": 4,
 "nbformat_minor": 5
}
