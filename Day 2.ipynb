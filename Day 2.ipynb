{
 "cells": [
  {
   "cell_type": "code",
   "execution_count": 2,
   "id": "3e179432",
   "metadata": {},
   "outputs": [
    {
     "name": "stdout",
     "output_type": "stream",
     "text": [
      "a\n"
     ]
    }
   ],
   "source": [
    "x = \"amie\"\n",
    "print(x[0])"
   ]
  },
  {
   "cell_type": "code",
   "execution_count": 3,
   "id": "7670f871",
   "metadata": {},
   "outputs": [
    {
     "name": "stdout",
     "output_type": "stream",
     "text": [
      "a\n"
     ]
    }
   ],
   "source": [
    "print(x[0:1])\n",
    "#indexing in a range stops before the to; it returns only the from. the short form is when you get to-1, which is the to, take it out."
   ]
  },
  {
   "cell_type": "code",
   "execution_count": 4,
   "id": "925ca3a1",
   "metadata": {},
   "outputs": [
    {
     "name": "stdout",
     "output_type": "stream",
     "text": [
      "ami\n"
     ]
    }
   ],
   "source": [
    "print(x[0:-1])\n",
    "#the execution of this code starts from the first position (0) and ends before the position of -1"
   ]
  },
  {
   "cell_type": "code",
   "execution_count": 7,
   "id": "9fc8b6f0",
   "metadata": {},
   "outputs": [
    {
     "name": "stdout",
     "output_type": "stream",
     "text": [
      "e\n"
     ]
    }
   ],
   "source": [
    "print(x[-1])"
   ]
  },
  {
   "cell_type": "code",
   "execution_count": 12,
   "id": "8fdca9fd",
   "metadata": {},
   "outputs": [
    {
     "data": {
      "text/plain": [
       "2"
      ]
     },
     "execution_count": 12,
     "metadata": {},
     "output_type": "execute_result"
    }
   ],
   "source": [
    "x.index('i')\n",
    "#to locate i in amie"
   ]
  },
  {
   "cell_type": "code",
   "execution_count": 2,
   "id": "2ab1ba2b",
   "metadata": {},
   "outputs": [
    {
     "name": "stdout",
     "output_type": "stream",
     "text": [
      "3\n",
      "['bola']\n"
     ]
    }
   ],
   "source": [
    "# we seek to return only the character after ayo\n",
    "p = [\"amie\", \"janet\", \"suan\", \"ayo\", \"bola\"]\n",
    "index_val = p.index(\"ayo\")\n",
    "print(index_val)\n",
    "y_val = p[index_val+1:]\n",
    "print(y_val)\n",
    "#the +1 added to the index value returns, skips the index value and returns one step away from the index value down"
   ]
  },
  {
   "cell_type": "code",
   "execution_count": 4,
   "id": "bcaee150",
   "metadata": {},
   "outputs": [
    {
     "name": "stdout",
     "output_type": "stream",
     "text": [
      "['john', 'eze', 'clinton', 'stella', 'mary', 'benita']\n"
     ]
    }
   ],
   "source": [
    "# a = [\"john\", \"eze\", \"clinton\", \"stella\", \"mary\", \"benita\"]\n",
    "# index_val = a.index(\"eze\")\n",
    "# a_val = a[index_val-1:]\n",
    "# print(a_val)\n",
    "# #the -1 indexed to the back of eze and also after"
   ]
  },
  {
   "cell_type": "code",
   "execution_count": 7,
   "id": "1e0e3005",
   "metadata": {},
   "outputs": [
    {
     "name": "stdout",
     "output_type": "stream",
     "text": [
      "['clinton', 'stella', 'mary', 'benita']\n"
     ]
    }
   ],
   "source": [
    "# a = [\"john\", \"eze\", \"clinton\", \"stella\", \"mary\", \"benita\"]\n",
    "# index_val = a.index(\"eze\")\n",
    "# a_val = a[index_val+1:]\n",
    "# print(a_val)"
   ]
  },
  {
   "cell_type": "code",
   "execution_count": 19,
   "id": "b64079cd",
   "metadata": {},
   "outputs": [
    {
     "name": "stdout",
     "output_type": "stream",
     "text": [
      "['ayo', 'bola']\n"
     ]
    }
   ],
   "source": [
    "p = [\"amie\", \"janet\", \"suan\", \"ayo\", \"bola\"]\n",
    "index_val = p.index(\"ayo\")\n",
    "y_val = p[index_val:]\n",
    "print(y_val)\n",
    "#without the +1 to the index value, it returns from the index value down\n"
   ]
  },
  {
   "cell_type": "code",
   "execution_count": 20,
   "id": "e03dd317",
   "metadata": {},
   "outputs": [
    {
     "name": "stdout",
     "output_type": "stream",
     "text": [
      "['suan', 'ayo', 'bola']\n"
     ]
    }
   ],
   "source": [
    "p = [\"amie\", \"janet\", \"suan\", \"ayo\", \"bola\"]\n",
    "index_val = p.index(\"ayo\")\n",
    "y_val = p[index_val-1:]\n",
    "print(y_val)"
   ]
  },
  {
   "cell_type": "code",
   "execution_count": 24,
   "id": "a27770ce",
   "metadata": {},
   "outputs": [
    {
     "name": "stdout",
     "output_type": "stream",
     "text": [
      "['amie', 'janet', 'suan']\n"
     ]
    }
   ],
   "source": [
    "z_val = p[:index_val]\n",
    "print(z_val)\n",
    "#the position of the colon matters\n",
    "#returns the characters before the index_val ayo"
   ]
  },
  {
   "cell_type": "code",
   "execution_count": 26,
   "id": "51ca9074",
   "metadata": {},
   "outputs": [
    {
     "name": "stdout",
     "output_type": "stream",
     "text": [
      "angel and funmi\n"
     ]
    }
   ],
   "source": [
    "#to compute the even values\n",
    "d = [\"juan\", \"kate\", \"mitchel\", \"funmi\", \"angel\", \"ada\", \"lola\", \"joy\"]\n",
    "count_avg = int(len(d)/2)\n",
    "new_count_avg = count_avg - 1\n",
    "\n",
    "if len(d)%2 != 0:\n",
    "#if length divided 2 doesn't have a remainder;even\n",
    "    print(d[count_avg])\n",
    "\n",
    "else:\n",
    "    med_val = d[count_avg]\n",
    "    val_med = d[new_count_avg]\n",
    "    print(f\"{med_val} and {val_med}\")"
   ]
  },
  {
   "cell_type": "code",
   "execution_count": 28,
   "id": "8e948a81",
   "metadata": {},
   "outputs": [
    {
     "name": "stdout",
     "output_type": "stream",
     "text": [
      "8\n"
     ]
    }
   ],
   "source": [
    "d = [\"juan\", \"kate\", \"mitchel\", \"funmi\", \"angel\", \"ada\", \"lola\", \"joy\"]\n",
    "print(len(d))\n",
    "#the len() functon returns the length of the elements in the set "
   ]
  },
  {
   "cell_type": "code",
   "execution_count": 40,
   "id": "a257d446",
   "metadata": {},
   "outputs": [
    {
     "name": "stdout",
     "output_type": "stream",
     "text": [
      "['tola', 'madu', 'jamie']\n"
     ]
    }
   ],
   "source": [
    "#to append\n",
    "arr1 = [3, 6, \"jamie\", \"bella\"]\n",
    "arr2 = [\"tola\", \"madu\"]\n",
    "arr2.append(\"jamie\")\n",
    "print(arr2)\n",
    "#i appended jamie in array1 to array 2"
   ]
  },
  {
   "cell_type": "code",
   "execution_count": 41,
   "id": "14289e68",
   "metadata": {},
   "outputs": [
    {
     "name": "stdout",
     "output_type": "stream",
     "text": [
      "[3, 6, 'jamie', 'bella', ['tola', 'madu']]\n"
     ]
    }
   ],
   "source": [
    "arr1 = [3, 6, \"jamie\", \"bella\"]\n",
    "arr2 = [\"tola\", \"madu\"]\n",
    "arr1.append(arr2)\n",
    "#appending arr2 to arr1. so when printing the new arry1, it will be updated\n",
    "print(arr1)"
   ]
  },
  {
   "cell_type": "code",
   "execution_count": 43,
   "id": "eba6f383",
   "metadata": {},
   "outputs": [
    {
     "name": "stdout",
     "output_type": "stream",
     "text": [
      "[3, 6, 'jamie', 'bella', ['tola', 'madu'], 'tola', 'madu']\n"
     ]
    }
   ],
   "source": [
    "print(arr1 + arr2)\n",
    "#general appending format. the latter cases, handles specila cases; to append to special positions"
   ]
  },
  {
   "cell_type": "code",
   "execution_count": 42,
   "id": "d98d8bbd",
   "metadata": {},
   "outputs": [
    {
     "name": "stdout",
     "output_type": "stream",
     "text": [
      "teni\n",
      "tiwa\n",
      "tems\n",
      "rihanna\n"
     ]
    }
   ],
   "source": [
    "array1 = [\"teni\", \"tiwa\", \"tems\", \"rihanna\"]\n",
    "for i in array1:\n",
    "    print(i)\n",
    "#this will just list out every element stred in i"
   ]
  },
  {
   "cell_type": "code",
   "execution_count": 50,
   "id": "78a2fe4c",
   "metadata": {},
   "outputs": [
    {
     "name": "stdout",
     "output_type": "stream",
     "text": [
      "['rihanna']\n"
     ]
    }
   ],
   "source": [
    "r_names = []\n",
    "#create an empty object\n",
    "array1 = [\"teni\", \"tiwa\", \"tems\", \"rihanna\"]\n",
    "for i in array1:\n",
    "    if i[0] == \"r\":\n",
    "#this line means starting from the first object in i, if the first letter is equal to r\n",
    "         r_names.append(i)\n",
    "#i is now stored in the empty r_names\n",
    "print(r_names)"
   ]
  },
  {
   "cell_type": "code",
   "execution_count": 53,
   "id": "8041674c",
   "metadata": {},
   "outputs": [
    {
     "name": "stdout",
     "output_type": "stream",
     "text": [
      "['teni', 'tiwa', 'tems', 'rihanna']\n"
     ]
    }
   ],
   "source": [
    "print(array1)\n",
    "array_names = [\"jacob\", \"obi\", \"moses\", \"victor\"]"
   ]
  },
  {
   "cell_type": "code",
   "execution_count": 55,
   "id": "7265446e",
   "metadata": {},
   "outputs": [
    {
     "name": "stdout",
     "output_type": "stream",
     "text": [
      "['Jacob', 'Obi', 'Moses', 'Victor']\n"
     ]
    }
   ],
   "source": [
    "new_surnames = []\n",
    "#cretaing an empty set to store objects\n",
    "for i in array_names: \n",
    "    cap_names = i[0].upper() + i[1:]\n",
    "#using just only the i[0].upper() will convert only the first letters to upper case\n",
    "    new_surnames.append(cap_names)\n",
    "print(new_surnames)"
   ]
  },
  {
   "cell_type": "code",
   "execution_count": 56,
   "id": "608768a1",
   "metadata": {},
   "outputs": [
    {
     "name": "stdout",
     "output_type": "stream",
     "text": [
      "Jacob teni\n",
      "Obi tiwa\n",
      "Moses tems\n",
      "Victor rihanna\n"
     ]
    }
   ],
   "source": [
    "for i in range(0, len(array1)):\n",
    "    fullnames = f\"{new_surnames[i]} {array1[i]}\"\n",
    "    print(fullnames)"
   ]
  },
  {
   "cell_type": "code",
   "execution_count": 57,
   "id": "e1ebc050",
   "metadata": {},
   "outputs": [
    {
     "name": "stdout",
     "output_type": "stream",
     "text": [
      "hannah\n",
      "shalom\n",
      "design\n"
     ]
    }
   ],
   "source": [
    "ele = [\"hannah\", \"shalom\", 10, 5, \"design\"]\n",
    "for i in ele:\n",
    "    test = isinstance(i, str)\n",
    "    if test == True:\n",
    "        print(i)\n",
    "#isinstance chceks the class of datatype\n"
   ]
  },
  {
   "cell_type": "code",
   "execution_count": 58,
   "id": "93550058",
   "metadata": {},
   "outputs": [
    {
     "data": {
      "text/plain": [
       "str"
      ]
     },
     "execution_count": 58,
     "metadata": {},
     "output_type": "execute_result"
    }
   ],
   "source": [
    "type(\"hannah\")\n",
    "#checks and returns the type of datatype"
   ]
  },
  {
   "cell_type": "code",
   "execution_count": 59,
   "id": "0965caa7",
   "metadata": {},
   "outputs": [
    {
     "name": "stdout",
     "output_type": "stream",
     "text": [
      "10\n",
      "5\n"
     ]
    }
   ],
   "source": [
    "#this prgram uses a for lop and checks if p is an integer, it returns p\n",
    "for i in ele:\n",
    "#let i replace every element in object ele\n",
    "    p = type(i)\n",
    "#assigning p to type(i) since we want to know the class of datatype of ele\n",
    "    if p == int:\n",
    "        print(i)"
   ]
  },
  {
   "cell_type": "code",
   "execution_count": 61,
   "id": "95c76b97",
   "metadata": {},
   "outputs": [
    {
     "name": "stdout",
     "output_type": "stream",
     "text": [
      "No they are not all strings!\n"
     ]
    }
   ],
   "source": [
    "#program to check if all the elements in an object are strings \n",
    "new_list = []\n",
    "d = [\"juan\", 10, \"mitchel\", \"funmi\", \"ada\", \"lola\", \"joy\"]\n",
    "for i in d:\n",
    "    k = type(i)\n",
    "    if k == str:\n",
    "        new_list.append(i)\n",
    "\n",
    "if len(new_list)==len(d):\n",
    "    print(\"yes they are all strings!\")\n",
    "else:\n",
    "    print(\"No they are not all strings!\")"
   ]
  }
 ],
 "metadata": {
  "kernelspec": {
   "display_name": "Python 3 (ipykernel)",
   "language": "python",
   "name": "python3"
  },
  "language_info": {
   "codemirror_mode": {
    "name": "ipython",
    "version": 3
   },
   "file_extension": ".py",
   "mimetype": "text/x-python",
   "name": "python",
   "nbconvert_exporter": "python",
   "pygments_lexer": "ipython3",
   "version": "3.9.7"
  },
  "varInspector": {
   "cols": {
    "lenName": 16,
    "lenType": 16,
    "lenVar": 40
   },
   "kernels_config": {
    "python": {
     "delete_cmd_postfix": "",
     "delete_cmd_prefix": "del ",
     "library": "var_list.py",
     "varRefreshCmd": "print(var_dic_list())"
    },
    "r": {
     "delete_cmd_postfix": ") ",
     "delete_cmd_prefix": "rm(",
     "library": "var_list.r",
     "varRefreshCmd": "cat(var_dic_list()) "
    }
   },
   "types_to_exclude": [
    "module",
    "function",
    "builtin_function_or_method",
    "instance",
    "_Feature"
   ],
   "window_display": false
  }
 },
 "nbformat": 4,
 "nbformat_minor": 5
}
