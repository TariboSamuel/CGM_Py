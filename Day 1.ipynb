{
 "cells": [
  {
   "cell_type": "code",
   "execution_count": 1,
   "id": "1006abdf",
   "metadata": {},
   "outputs": [
    {
     "name": "stdout",
     "output_type": "stream",
     "text": [
      "Hello guys\n"
     ]
    }
   ],
   "source": [
    "print(\"Hello guys\")"
   ]
  },
  {
   "cell_type": "code",
   "execution_count": 2,
   "id": "4012f21e",
   "metadata": {},
   "outputs": [
    {
     "name": "stdout",
     "output_type": "stream",
     "text": [
      "30\n"
     ]
    }
   ],
   "source": [
    "x = 10\n",
    "y = 20\n",
    "print(x+y)"
   ]
  },
  {
   "cell_type": "code",
   "execution_count": 6,
   "id": "69770fae",
   "metadata": {},
   "outputs": [
    {
     "name": "stdout",
     "output_type": "stream",
     "text": [
      "x plus y is = 30\n"
     ]
    }
   ],
   "source": [
    "print(f\"x plus y is = {x+y}\")"
   ]
  },
  {
   "cell_type": "code",
   "execution_count": 2,
   "id": "6949e157",
   "metadata": {},
   "outputs": [
    {
     "name": "stdout",
     "output_type": "stream",
     "text": [
      "\n",
      "#the format string\n",
      "      hello samuel\n",
      "      please kindly input your personal details.\n",
      "      Thank you\n",
      "\n"
     ]
    }
   ],
   "source": [
    "#Uusing the format string\n",
    "print(f\"\"\"\n",
    "      hello samuel\n",
    "      please kindly input your personal details.\n",
    "      Thank you\n",
    "\"\"\")"
   ]
  },
  {
   "cell_type": "code",
   "execution_count": 15,
   "id": "11cbf69c",
   "metadata": {},
   "outputs": [
    {
     "name": "stdout",
     "output_type": "stream",
     "text": [
      "enter your name: Taribo Samuel\n",
      "enter your year of birth: 2002\n",
      "\n",
      "      Hello Taribo Samuel,\n",
      "#This  line calls the inputed name; that's what the culy braces does; it calls a stoed object\n",
      "      the computer calculated your age to be 20.0, \n",
      "      Hope your input was calculated correctly.\n",
      "      \n"
     ]
    }
   ],
   "source": [
    "name = input(\"enter your name: \")\n",
    "y = float(input(\"enter your year of birth: \"))\n",
    "age = 2022 - y\n",
    "#this LIne calculates the year by subtracting the year of birth from the cuent year 2022\n",
    "print(f\"\"\"\n",
    "      Hello {name},\n",
    "#This  line calls the inputed name; that's what the curly braces does; it calls a stored object\n",
    "      the computer calculated your age to be {age}, \n",
    "      Hope your input was calculated correctly.\n",
    "      \"\"\")"
   ]
  },
  {
   "cell_type": "code",
   "execution_count": null,
   "id": "8c5a6c7b",
   "metadata": {},
   "outputs": [],
   "source": [
    "#program to calculate temperature also including the temperature conversion factors\n",
    "temp_val = float(input(\"enter temperature value: \"))\n",
    "unit = input(\"enter unit (f/c): \").lower()\n",
    "\n",
    "#this line receives input in farenheit and converts it to celcius\n",
    "if unit == \"f\":\n",
    "  temp_fahr = round((5/9) * (temp_val -32), 3)\n",
    "print(f\"the temperature value from fahr to cel is {temp_fahr}celcius\")\n",
    "elif unit == \"c\":\n",
    "#this line receives input in celcius and converts it to farenheit\n",
    "  temp_cel = round((9/5) * (temp_val +32), 3)\n",
    "   print(f\"the temperature value from cel to fahr is {temp_val}farenheit\")\n",
    "else:\n",
    "    print(\"input not understood\")"
   ]
  },
  {
   "cell_type": "code",
   "execution_count": 36,
   "id": "cab9e6c1",
   "metadata": {},
   "outputs": [
    {
     "name": "stdout",
     "output_type": "stream",
     "text": [
      "enter temperature value: 6\n",
      "enter unit (f/c): f\n",
      "the temperature value from fahr to cel is -14.444celcius\n"
     ]
    }
   ],
   "source": [
    "temp_val = float(input(\"enter temperature value: \"))\n",
    "unit = input(\"enter unit (f/c): \").lower()\n",
    "\n",
    "if unit == \"f\":\n",
    "    temp_fahr = round((5/9) * (temp_val -32), 3)\n",
    "    print(f\"the temperature value from fahr to cel is {temp_fahr}celcius\")\n",
    "elif unit == \"c\":\n",
    "    temp_cel = round((9/5)*(temp_val +32), 3)\n",
    "    print(f\"the temperature value from cel to fahr is {temp_cel}fahrenheit\")\n",
    "else:\n",
    "    print(\"input not understood\")"
   ]
  },
  {
   "cell_type": "code",
   "execution_count": 49,
   "id": "c4b11118",
   "metadata": {},
   "outputs": [
    {
     "name": "stdout",
     "output_type": "stream",
     "text": [
      "the default units are lbs and ft\n",
      "enter weight value: 67\n",
      "enter weight unit: lb\n",
      "enter height value: 670\n",
      "enter height unit: ft\n",
      "conversion not available or input incorrect\n"
     ]
    }
   ],
   "source": [
    "print(\"the default units are lbs and ft\")\n",
    "weight = float(input(\"enter weight value: \"))\n",
    "unit_weight = input(\"enter weight unit: \")\n",
    "height = float(input(\"enter height value: \"))\n",
    "unit_height = input(\"enter height unit: \")\n",
    "\n",
    "#setting the conditions\n",
    "if unit_weight == 'lbs' and unit_height == 'ft':\n",
    "    bmi = weight/(height**2)\n",
    "    if bmi >= 1.5 and bmi <= 2.5:\n",
    "        print(f\"bmi value of {bmi} too low\")\n",
    "    elif bmi >=2.6 and bmi <= 5.5:\n",
    "            print(f\"bmi value of {bmi} is okay\")\n",
    "    else:\n",
    "        print(f\"bmi value of {bmi} is challenging\")\n",
    "#this line displays how the output will be, together with the unit\n",
    "        print(f\"{bmi}lbs/ft2\")\n",
    "\n",
    "elif unit_weight == \"kg\" and height_unit == \"m\":\n",
    "#this line includes the conversion factors  \n",
    "        bmi = (weight/2.204) / ((height/3.218)**2)\n",
    "        print(f\"{bmi}kg/m2\")\n",
    "        \n",
    "else:\n",
    "        print(\"conversion not available or input incorrect\")"
   ]
  },
  {
   "cell_type": "code",
   "execution_count": null,
   "id": "e27d5db9",
   "metadata": {},
   "outputs": [],
   "source": [
    "#progam to compute the weight of patients\n",
    "weight = float(input())"
   ]
  },
  {
   "cell_type": "code",
   "execution_count": null,
   "id": "80d6d152",
   "metadata": {},
   "outputs": [],
   "source": []
  }
 ],
 "metadata": {
  "kernelspec": {
   "display_name": "Python 3 (ipykernel)",
   "language": "python",
   "name": "python3"
  },
  "language_info": {
   "codemirror_mode": {
    "name": "ipython",
    "version": 3
   },
   "file_extension": ".py",
   "mimetype": "text/x-python",
   "name": "python",
   "nbconvert_exporter": "python",
   "pygments_lexer": "ipython3",
   "version": "3.9.7"
  }
 },
 "nbformat": 4,
 "nbformat_minor": 5
}
