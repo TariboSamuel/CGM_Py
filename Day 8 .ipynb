{
 "cells": [
  {
   "cell_type": "code",
   "execution_count": 1,
   "id": "f0c416bc",
   "metadata": {},
   "outputs": [
    {
     "name": "stdout",
     "output_type": "stream",
     "text": [
      "The Zen of Python, by Tim Peters\n",
      "\n",
      "Beautiful is better than ugly.\n",
      "Explicit is better than implicit.\n",
      "Simple is better than complex.\n",
      "Complex is better than complicated.\n",
      "Flat is better than nested.\n",
      "Sparse is better than dense.\n",
      "Readability counts.\n",
      "Special cases aren't special enough to break the rules.\n",
      "Although practicality beats purity.\n",
      "Errors should never pass silently.\n",
      "Unless explicitly silenced.\n",
      "In the face of ambiguity, refuse the temptation to guess.\n",
      "There should be one-- and preferably only one --obvious way to do it.\n",
      "Although that way may not be obvious at first unless you're Dutch.\n",
      "Now is better than never.\n",
      "Although never is often better than *right* now.\n",
      "If the implementation is hard to explain, it's a bad idea.\n",
      "If the implementation is easy to explain, it may be a good idea.\n",
      "Namespaces are one honking great idea -- let's do more of those!\n"
     ]
    }
   ],
   "source": [
    "import this"
   ]
  },
  {
   "cell_type": "markdown",
   "id": "839e7e92",
   "metadata": {},
   "source": [
    "# Let's code "
   ]
  },
  {
   "cell_type": "code",
   "execution_count": 3,
   "id": "7b2ddbc9",
   "metadata": {},
   "outputs": [
    {
     "name": "stdout",
     "output_type": "stream",
     "text": [
      "{'chicago': 'chicago.csv', 'new york city': 'new_york_city.csv', 'washington': 'washington.csv'}\n"
     ]
    }
   ],
   "source": [
    "import time\n",
    "import pandas as pd\n",
    "import numpy as np\n",
    "\n",
    "CITY_DATA = { 'chicago': 'chicago.csv',\n",
    "              'new york city': 'new_york_city.csv',\n",
    "              'washington': 'washington.csv' }\n",
    "print(CITY_DATA)\n",
    "# calling paths for the files and assigning them to variable city_data\n",
    "\n",
    "def get_filters():\n",
    "    \"\"\"\n",
    "    Asks user to specify a city, month, and day to analyze.\n",
    "\n",
    "    Returns:\n",
    "        (str) city - name of the city to analyze\n",
    "        (str) month - name of the month to filter by, or \"all\" to apply no month filter\n",
    "        (str) day - name of the day of week to filter by, or \"all\" to apply no day filter\n",
    "    \"\"\"\n",
    "    print('Hello! Let\\'s explore some US bikeshare data!')\n",
    "    enter_city = input(\"enter city: \").lower()\n",
    "    city = CITY_DATA[enter_city]\n",
    "    print('-'*40)\n",
    "    return city\n",
    "    \n",
    "# def load_data(city):\n",
    "#     \"\"\"\n",
    "#     Loads data for the specified city and filters by month and day if applicable.\n",
    "\n",
    "#     Args:\n",
    "#         (str) city - name of the city to analyze\n",
    "#         (str) month - name of the month to filter by, or \"all\" to apply no month filter\n",
    "#         (str) day - name of the day of week to filter by, or \"all\" to apply no day filter\n",
    "#     Returns:\n",
    "#         df - Pandas DataFrame containing city data filtered by month and day\n",
    "#     \"\"\"\n",
    "#     df = pd.read_csv(city)\n",
    "#     df[[\"start_date\", \"start_time\"]] = df[\"Start Time\"].str.split(\" \", expand = True)\n",
    "#     df[[\"start_year\", \"start_month\", \"start_day\"]] = df[\"start_date\"].str.split(\"-\", expand = True)\n",
    "#     df[\"start_month\"] = pd.to_numeric(df[\"start_month\"])\n",
    "#     df[\"start_day\"] = pd.to_numeric(df[\"start_day\"])\n",
    "#     return df\n"
   ]
  },
  {
   "cell_type": "code",
   "execution_count": null,
   "id": "af93d2c6",
   "metadata": {},
   "outputs": [],
   "source": []
  },
  {
   "cell_type": "code",
   "execution_count": null,
   "id": "58ee3e84",
   "metadata": {},
   "outputs": [],
   "source": []
  },
  {
   "cell_type": "code",
   "execution_count": null,
   "id": "2ffb9d95",
   "metadata": {},
   "outputs": [],
   "source": []
  }
 ],
 "metadata": {
  "kernelspec": {
   "display_name": "Python 3 (ipykernel)",
   "language": "python",
   "name": "python3"
  },
  "language_info": {
   "codemirror_mode": {
    "name": "ipython",
    "version": 3
   },
   "file_extension": ".py",
   "mimetype": "text/x-python",
   "name": "python",
   "nbconvert_exporter": "python",
   "pygments_lexer": "ipython3",
   "version": "3.9.7"
  }
 },
 "nbformat": 4,
 "nbformat_minor": 5
}
