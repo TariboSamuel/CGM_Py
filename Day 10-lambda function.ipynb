{
 "cells": [
  {
   "cell_type": "code",
   "execution_count": 1,
   "id": "a57fbbd8",
   "metadata": {},
   "outputs": [
    {
     "name": "stdout",
     "output_type": "stream",
     "text": [
      "The Zen of Python, by Tim Peters\n",
      "\n",
      "Beautiful is better than ugly.\n",
      "Explicit is better than implicit.\n",
      "Simple is better than complex.\n",
      "Complex is better than complicated.\n",
      "Flat is better than nested.\n",
      "Sparse is better than dense.\n",
      "Readability counts.\n",
      "Special cases aren't special enough to break the rules.\n",
      "Although practicality beats purity.\n",
      "Errors should never pass silently.\n",
      "Unless explicitly silenced.\n",
      "In the face of ambiguity, refuse the temptation to guess.\n",
      "There should be one-- and preferably only one --obvious way to do it.\n",
      "Although that way may not be obvious at first unless you're Dutch.\n",
      "Now is better than never.\n",
      "Although never is often better than *right* now.\n",
      "If the implementation is hard to explain, it's a bad idea.\n",
      "If the implementation is easy to explain, it may be a good idea.\n",
      "Namespaces are one honking great idea -- let's do more of those!\n"
     ]
    }
   ],
   "source": [
    "import this"
   ]
  },
  {
   "cell_type": "markdown",
   "id": "74073a87",
   "metadata": {},
   "source": [
    "# lambda function"
   ]
  },
  {
   "cell_type": "code",
   "execution_count": 2,
   "id": "9f8cc145",
   "metadata": {},
   "outputs": [
    {
     "data": {
      "text/plain": [
       "3"
      ]
     },
     "execution_count": 2,
     "metadata": {},
     "output_type": "execute_result"
    }
   ],
   "source": [
    "def add_val(x):\n",
    "    return (x + 1)\n",
    "\n",
    "add_val(2) "
   ]
  },
  {
   "cell_type": "code",
   "execution_count": 3,
   "id": "b9a40490",
   "metadata": {},
   "outputs": [
    {
     "data": {
      "text/plain": [
       "13"
      ]
     },
     "execution_count": 3,
     "metadata": {},
     "output_type": "execute_result"
    }
   ],
   "source": [
    "def add_val(x, y):\n",
    "    b = (x + y) + 5\n",
    "#this is what we want the functon to do\n",
    "    return b\n",
    "\n",
    "#calling the function now\n",
    "add_val(2, 6)"
   ]
  },
  {
   "cell_type": "code",
   "execution_count": 4,
   "id": "603cb1cb",
   "metadata": {},
   "outputs": [
    {
     "data": {
      "text/plain": [
       "' hello world Amanda'"
      ]
     },
     "execution_count": 4,
     "metadata": {},
     "output_type": "execute_result"
    }
   ],
   "source": [
    "def lcm(b):\n",
    "    return f\" {b} Amanda\"\n",
    "\n",
    "lcm(\"hello world\")"
   ]
  },
  {
   "cell_type": "code",
   "execution_count": 5,
   "id": "e8d811df",
   "metadata": {},
   "outputs": [
    {
     "data": {
      "text/plain": [
       "13"
      ]
     },
     "execution_count": 5,
     "metadata": {},
     "output_type": "execute_result"
    }
   ],
   "source": [
    "add_val = lambda x, y: (x + y) + 5\n",
    "# after the colon the RH defines what the lambda will do\n",
    "add_val(2, 6)"
   ]
  },
  {
   "cell_type": "code",
   "execution_count": 1,
   "id": "6ee2de46",
   "metadata": {},
   "outputs": [
    {
     "data": {
      "text/plain": [
       "'hello world'"
      ]
     },
     "execution_count": 1,
     "metadata": {},
     "output_type": "execute_result"
    }
   ],
   "source": [
    "b = \"hello world\"\n",
    "a = lambda string : string\n",
    "a(b)"
   ]
  },
  {
   "cell_type": "code",
   "execution_count": 3,
   "id": "f1f67cb8",
   "metadata": {},
   "outputs": [
    {
     "data": {
      "text/plain": [
       "' hello world Ada'"
      ]
     },
     "execution_count": 3,
     "metadata": {},
     "output_type": "execute_result"
    }
   ],
   "source": [
    "b = \"hello world\"\n",
    "a = lambda string : f\" {string} Ada\"\n",
    "a(b)"
   ]
  },
  {
   "cell_type": "code",
   "execution_count": 4,
   "id": "24851420",
   "metadata": {},
   "outputs": [
    {
     "name": "stdout",
     "output_type": "stream",
     "text": [
      "<function <lambda> at 0x000001ACBF5DBD30>\n"
     ]
    }
   ],
   "source": [
    "string = \"be my guest\"\n",
    "print(lambda string : string)"
   ]
  },
  {
   "cell_type": "code",
   "execution_count": 5,
   "id": "ac94299b",
   "metadata": {},
   "outputs": [
    {
     "data": {
      "text/plain": [
       "'be my guest'"
      ]
     },
     "execution_count": 5,
     "metadata": {},
     "output_type": "execute_result"
    }
   ],
   "source": [
    "(lambda string : string) (string)"
   ]
  },
  {
   "cell_type": "code",
   "execution_count": 7,
   "id": "8223d176",
   "metadata": {},
   "outputs": [
    {
     "name": "stdout",
     "output_type": "stream",
     "text": [
      "[1, 4, 9, 16, 25, 36, 49, 64, 81, 100]\n"
     ]
    }
   ],
   "source": [
    "table = [(x ** 2) for x in range(1, 11)]\n",
    "print(table)"
   ]
  },
  {
   "cell_type": "code",
   "execution_count": 8,
   "id": "efcfae10",
   "metadata": {},
   "outputs": [
    {
     "data": {
      "text/plain": [
       "50"
      ]
     },
     "execution_count": 8,
     "metadata": {},
     "output_type": "execute_result"
    }
   ],
   "source": [
    "x = 5\n",
    "d = lambda x = x : x*10\n",
    "d(x)"
   ]
  },
  {
   "cell_type": "code",
   "execution_count": 10,
   "id": "4b2045ba",
   "metadata": {},
   "outputs": [
    {
     "name": "stdout",
     "output_type": "stream",
     "text": [
      "10\n",
      "20\n",
      "30\n",
      "40\n",
      "50\n",
      "60\n",
      "70\n",
      "80\n",
      "90\n",
      "100\n"
     ]
    }
   ],
   "source": [
    "t = [lambda x = x : x*10 for x in range(1, 11)]\n",
    "for i in t:\n",
    "    print(i())\n",
    "#for x=x, with range (1, 11) solve x*10"
   ]
  },
  {
   "cell_type": "code",
   "execution_count": 11,
   "id": "ba1d0ad5",
   "metadata": {},
   "outputs": [
    {
     "data": {
      "text/plain": [
       "15"
      ]
     },
     "execution_count": 11,
     "metadata": {},
     "output_type": "execute_result"
    }
   ],
   "source": [
    "max_val = lambda a, b : a if (a > b) else b\n",
    "max_val(15, 10)\n",
    "# for max_val if a > b, print a else Print b"
   ]
  },
  {
   "cell_type": "markdown",
   "id": "889a7e76",
   "metadata": {},
   "source": [
    "# using filter with list"
   ]
  },
  {
   "cell_type": "code",
   "execution_count": 15,
   "id": "f7711daa",
   "metadata": {},
   "outputs": [
    {
     "name": "stdout",
     "output_type": "stream",
     "text": [
      "[22, 62, 54]\n"
     ]
    }
   ],
   "source": [
    "lst = [5, 7, 22, 97, 62, 54, 77, 23]\n",
    "a = lambda x : (x % 2 == 0)\n",
    "new_list = list(filter(a, lst))\n",
    "print(new_list)\n",
    "#to return the even numbers from the list\n",
    "#the filter loops through and fiters the data"
   ]
  },
  {
   "cell_type": "code",
   "execution_count": 8,
   "id": "69eecac4",
   "metadata": {},
   "outputs": [
    {
     "name": "stdout",
     "output_type": "stream",
     "text": [
      "[90, 59, 21, 60]\n"
     ]
    }
   ],
   "source": [
    "# filter adults above 18 years\n",
    "vamp_lst = [13, 90, 17, 59, 21, 60, 5]\n",
    "adults = lambda c : (c > 18)\n",
    "new_vamp_lst = list(filter(adults, vamp_lst))\n",
    "# the list returns the output in a list\n",
    "print(new_vamp_lst)"
   ]
  },
  {
   "cell_type": "markdown",
   "id": "492665f0",
   "metadata": {},
   "source": [
    "# using map function"
   ]
  },
  {
   "cell_type": "code",
   "execution_count": 1,
   "id": "e5cd068a",
   "metadata": {},
   "outputs": [
    {
     "name": "stdout",
     "output_type": "stream",
     "text": [
      "[6.5, 45.0, 8.5, 29.5, 10.5, 30.0, 2.5]\n"
     ]
    }
   ],
   "source": [
    "vamp_lst = [13, 90, 17, 59, 21, 60, 5]\n",
    "b = lambda x : (x/2)\n",
    "new_val = list(map(b, vamp_lst))\n",
    "print(new_val)\n",
    "# the map acts like the for loop; it loops through"
   ]
  },
  {
   "cell_type": "code",
   "execution_count": 17,
   "id": "e77c66d8",
   "metadata": {},
   "outputs": [
    {
     "name": "stdout",
     "output_type": "stream",
     "text": [
      "['John', 'Rihad', 'Perez', 'Keita']\n"
     ]
    }
   ],
   "source": [
    "names = [\"john\", \"rihad\", \"perez\", \"keita\"]\n",
    "k = lambda x : x[0].upper() + x[1:]\n",
    "new_k = list(map(k, names))\n",
    "print(new_k)"
   ]
  },
  {
   "cell_type": "code",
   "execution_count": 26,
   "id": "112fab55",
   "metadata": {},
   "outputs": [
    {
     "name": "stdout",
     "output_type": "stream",
     "text": [
      "JOHN\n",
      "RIHAD\n",
      "PEREZ\n",
      "KEITA\n"
     ]
    }
   ],
   "source": [
    "names = [\"john\", \"rihad\", \"perez\", \"keita\"]\n",
    "for i in names:\n",
    "    i_upper = i[0: ].upper()\n",
    "    print(i_upper)\n",
    "#just successfully converted all to upper"
   ]
  },
  {
   "cell_type": "code",
   "execution_count": 2,
   "id": "c46badf5",
   "metadata": {},
   "outputs": [
    {
     "name": "stdout",
     "output_type": "stream",
     "text": [
      "John\n",
      "Rihad\n",
      "Perez\n",
      "Keita\n"
     ]
    }
   ],
   "source": [
    "names = [\"john\", \"rihad\", \"perez\", \"keita\"]\n",
    "names = [\"john\", \"rihad\", \"perez\", \"keita\"]\n",
    "for i in names:\n",
    "    i_upper = i[0].upper()+i[1:]\n",
    "    print(i_upper)\n"
   ]
  },
  {
   "cell_type": "code",
   "execution_count": null,
   "id": "817885d6",
   "metadata": {},
   "outputs": [],
   "source": [
    "1. the quantity that sold more and which country is it\n",
    "2. which time are goods usually bought the more; which hour is goods usually sold the most\n",
    "3. which country buys goods at night"
   ]
  }
 ],
 "metadata": {
  "kernelspec": {
   "display_name": "Python 3 (ipykernel)",
   "language": "python",
   "name": "python3"
  },
  "language_info": {
   "codemirror_mode": {
    "name": "ipython",
    "version": 3
   },
   "file_extension": ".py",
   "mimetype": "text/x-python",
   "name": "python",
   "nbconvert_exporter": "python",
   "pygments_lexer": "ipython3",
   "version": "3.9.7"
  },
  "varInspector": {
   "cols": {
    "lenName": 16,
    "lenType": 16,
    "lenVar": 40
   },
   "kernels_config": {
    "python": {
     "delete_cmd_postfix": "",
     "delete_cmd_prefix": "del ",
     "library": "var_list.py",
     "varRefreshCmd": "print(var_dic_list())"
    },
    "r": {
     "delete_cmd_postfix": ") ",
     "delete_cmd_prefix": "rm(",
     "library": "var_list.r",
     "varRefreshCmd": "cat(var_dic_list()) "
    }
   },
   "types_to_exclude": [
    "module",
    "function",
    "builtin_function_or_method",
    "instance",
    "_Feature"
   ],
   "window_display": false
  }
 },
 "nbformat": 4,
 "nbformat_minor": 5
}
