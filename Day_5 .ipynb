{
 "cells": [
  {
   "cell_type": "code",
   "execution_count": 1,
   "id": "d1919cc6",
   "metadata": {
    "scrolled": true
   },
   "outputs": [
    {
     "name": "stdout",
     "output_type": "stream",
     "text": [
      "The Zen of Python, by Tim Peters\n",
      "\n",
      "Beautiful is better than ugly.\n",
      "Explicit is better than implicit.\n",
      "Simple is better than complex.\n",
      "Complex is better than complicated.\n",
      "Flat is better than nested.\n",
      "Sparse is better than dense.\n",
      "Readability counts.\n",
      "Special cases aren't special enough to break the rules.\n",
      "Although practicality beats purity.\n",
      "Errors should never pass silently.\n",
      "Unless explicitly silenced.\n",
      "In the face of ambiguity, refuse the temptation to guess.\n",
      "There should be one-- and preferably only one --obvious way to do it.\n",
      "Although that way may not be obvious at first unless you're Dutch.\n",
      "Now is better than never.\n",
      "Although never is often better than *right* now.\n",
      "If the implementation is hard to explain, it's a bad idea.\n",
      "If the implementation is easy to explain, it may be a good idea.\n",
      "Namespaces are one honking great idea -- let's do more of those!\n"
     ]
    }
   ],
   "source": [
    "import this\n"
   ]
  },
  {
   "cell_type": "markdown",
   "id": "2583e3d8",
   "metadata": {},
   "source": [
    "#lets code"
   ]
  },
  {
   "cell_type": "code",
   "execution_count": 51,
   "id": "d2bee5fd",
   "metadata": {},
   "outputs": [
    {
     "ename": "RuntimeError",
     "evalue": "dictionary changed size during iteration",
     "output_type": "error",
     "traceback": [
      "\u001b[1;31m---------------------------------------------------------------------------\u001b[0m",
      "\u001b[1;31mRuntimeError\u001b[0m                              Traceback (most recent call last)",
      "\u001b[1;32mC:\\Users\\TARIBO~1\\AppData\\Local\\Temp/ipykernel_5032/1023132461.py\u001b[0m in \u001b[0;36m<module>\u001b[1;34m\u001b[0m\n\u001b[0;32m      7\u001b[0m \u001b[1;33m\u001b[0m\u001b[0m\n\u001b[0;32m      8\u001b[0m \u001b[1;32mfor\u001b[0m \u001b[0ml\u001b[0m \u001b[1;32min\u001b[0m \u001b[0mdict_file\u001b[0m\u001b[1;33m:\u001b[0m\u001b[1;33m\u001b[0m\u001b[1;33m\u001b[0m\u001b[0m\n\u001b[1;32m----> 9\u001b[1;33m     \u001b[1;32mfor\u001b[0m \u001b[0mkey\u001b[0m\u001b[1;33m,\u001b[0m \u001b[0mvalue\u001b[0m \u001b[1;32min\u001b[0m \u001b[0ml\u001b[0m\u001b[1;33m.\u001b[0m\u001b[0mitems\u001b[0m\u001b[1;33m(\u001b[0m\u001b[1;33m)\u001b[0m\u001b[1;33m:\u001b[0m\u001b[1;33m\u001b[0m\u001b[1;33m\u001b[0m\u001b[0m\n\u001b[0m\u001b[0;32m     10\u001b[0m         \u001b[0ml\u001b[0m\u001b[1;33m[\u001b[0m\u001b[1;34m\"salary\"\u001b[0m\u001b[1;33m]\u001b[0m \u001b[1;33m=\u001b[0m \u001b[0mrandom\u001b[0m\u001b[1;33m.\u001b[0m\u001b[0mrandint\u001b[0m\u001b[1;33m(\u001b[0m\u001b[1;36m2000\u001b[0m\u001b[1;33m,\u001b[0m \u001b[1;36m5000\u001b[0m\u001b[1;33m)\u001b[0m\u001b[1;33m\u001b[0m\u001b[1;33m\u001b[0m\u001b[0m\n\u001b[0;32m     11\u001b[0m \u001b[0mprint\u001b[0m\u001b[1;33m(\u001b[0m\u001b[0ml\u001b[0m\u001b[1;33m)\u001b[0m\u001b[1;33m\u001b[0m\u001b[1;33m\u001b[0m\u001b[0m\n",
      "\u001b[1;31mRuntimeError\u001b[0m: dictionary changed size during iteration"
     ]
    }
   ],
   "source": [
    "# import random\n",
    "# dict_file = [{\"name\": \"jake\", \"age\":30, \"Married\": True, \"Sex\": \"Male\"},\n",
    "#             {\"name\": \"fani\", \"age\":20, \"Married\": True, \"Sex\": \"Male\"},\n",
    "#              {\"name\": \"beeniel\", \"age\":25, \"Married\": False, \"Sex\": \"Female\"},\n",
    "#              {\"name\": \"susan\", \"age\":21, \"Married\": False, \"Sex\": \"Female\"}\n",
    "#             ]\n",
    "\n",
    "# for l in dict_file:\n",
    "#     for key, value in l.items():\n",
    "#         l[\"salary\"] = random.randint(2000, 5000)\n",
    "# print(l)\n",
    "        \n",
    "# list_salary =[]\n",
    "# for vals in l:\n",
    "# #         print(vals)\n",
    "#         for key, value in l.items(): \n",
    "#             if key == \"age\" and (value >= 25 and value <= 30):\n",
    "#                 list_salary.append(vals)     \n",
    "# print(list_salary)\n",
    "\n",
    "         \n",
    "\n"
   ]
  },
  {
   "cell_type": "code",
   "execution_count": 62,
   "id": "6ddd7525",
   "metadata": {},
   "outputs": [
    {
     "name": "stdout",
     "output_type": "stream",
     "text": [
      "[{'name': 'jake', 'age': 30, 'Married': True, 'Sex': 'Male', 'salary': 2000}, {'name': 'beeniel', 'age': 25, 'Married': False, 'Sex': 'Female', 'salary': 4000}]\n",
      "[{'name': 'jake', 'age': 30, 'Married': True, 'Sex': 'Male', 'salary': 2100.0}, {'name': 'beeniel', 'age': 25, 'Married': False, 'Sex': 'Female', 'salary': 4000}]\n"
     ]
    }
   ],
   "source": [
    "dict_file = [{\"name\": \"jake\", \"age\":30, \"Married\": True, \"Sex\": \"Male\", \"salary\": 2000},\n",
    "            {\"name\": \"fani\", \"age\":20, \"Married\": True, \"Sex\": \"Male\", \"salary\": 3000},\n",
    "             {\"name\": \"beeniel\", \"age\":25, \"Married\": False, \"Sex\": \"Female\", \"salary\": 4000},\n",
    "             {\"name\": \"susan\", \"age\":21, \"Married\": False, \"Sex\": \"Female\", \"salary\": 5000}\n",
    "            ]\n",
    "\n",
    "list_salary = []\n",
    "for vals in dict_file:\n",
    "     for key, value in vals.items():\n",
    "            if key == \"age\" and (value >= 25 and value <= 30):\n",
    "                list_salary.append(vals)\n",
    "print(list_salary)\n",
    "\n",
    "for vals in list_salary:\n",
    "    for key, value in vals.items():\n",
    "        if key == \"Married\" and value == True:\n",
    "            percentage = (5/100) * vals[\"salary\"]\n",
    "            vals[\"salary\"] = percentage + vals[\"salary\"]\n",
    "print(list_salary)\n",
    "\n",
    "            \n",
    "    \n",
    "        \n",
    "            "
   ]
  },
  {
   "cell_type": "code",
   "execution_count": 68,
   "id": "a8e11f03",
   "metadata": {},
   "outputs": [
    {
     "name": "stdout",
     "output_type": "stream",
     "text": [
      "[{'name': 'jake', 'age': 30, 'Married': True, 'Sex': 'Male', 'salary': 2100.0}, {'name': 'fani', 'age': 20, 'Married': True, 'Sex': 'Male', 'salary': 3000}]\n"
     ]
    }
   ],
   "source": [
    "married_men = []\n",
    "for vals in dict_file:\n",
    "    for key, value in vals.items():\n",
    "        if key == \"Married\" and value == True:\n",
    "            married_men.append(vals)\n",
    "print(married_men)\n",
    "\n",
    "for vals in married_men:\n",
    "    for key, value in vals.items():\n",
    "        if key == \"sex\" and value == \"Male\":\n",
    "            print(vals[\"name\"])\n"
   ]
  },
  {
   "cell_type": "code",
   "execution_count": null,
   "id": "8ad6da89",
   "metadata": {},
   "outputs": [],
   "source": []
  }
 ],
 "metadata": {
  "kernelspec": {
   "display_name": "Python 3 (ipykernel)",
   "language": "python",
   "name": "python3"
  },
  "language_info": {
   "codemirror_mode": {
    "name": "ipython",
    "version": 3
   },
   "file_extension": ".py",
   "mimetype": "text/x-python",
   "name": "python",
   "nbconvert_exporter": "python",
   "pygments_lexer": "ipython3",
   "version": "3.9.7"
  }
 },
 "nbformat": 4,
 "nbformat_minor": 5
}
