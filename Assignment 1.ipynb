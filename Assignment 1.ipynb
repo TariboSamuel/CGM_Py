{
 "cells": [
  {
   "cell_type": "code",
   "execution_count": 8,
   "id": "f7ab36df",
   "metadata": {},
   "outputs": [
    {
     "name": "stdout",
     "output_type": "stream",
     "text": [
      "[[0, 0, 0], [0, 0, 0], [0, 0, 0]]\n"
     ]
    }
   ],
   "source": [
    "#it is possible to create a n x m matrix by listing a set of elements (let's say n) and then making each of the elements linked to another 1D list of m elements. Here is code snippet for this; \n",
    "# n = 3\n",
    "# m = 3\n",
    "# val = [0] * n\n",
    "# creating a list of 0's\n",
    "# for x in range (n):\n",
    "#     val[x] = [0] * m\n",
    "# print(val)\n"
   ]
  },
  {
   "cell_type": "code",
   "execution_count": 5,
   "id": "b5879dfe",
   "metadata": {},
   "outputs": [
    {
     "name": "stdout",
     "output_type": "stream",
     "text": [
      "0\n"
     ]
    }
   ],
   "source": [
    "# x = range(3)\n",
    "# y = x[0]\n",
    "# print(y)"
   ]
  },
  {
   "cell_type": "code",
   "execution_count": 11,
   "id": "7ab6dd3a",
   "metadata": {},
   "outputs": [
    {
     "name": "stdout",
     "output_type": "stream",
     "text": [
      "[7, 8, 9]\n"
     ]
    }
   ],
   "source": [
    "m = [[1, 2, 3],\n",
    "    [4, 5, 6],\n",
    "    [7, 8, 9]]\n",
    "\n",
    "print(m[2])"
   ]
  },
  {
   "cell_type": "code",
   "execution_count": 29,
   "id": "3a79e876",
   "metadata": {},
   "outputs": [
    {
     "name": "stdout",
     "output_type": "stream",
     "text": [
      "6\n"
     ]
    }
   ],
   "source": [
    "#this pattern is for extracting singular elements of the matrix. the first index signifies the rows while the other signifies the columns\n",
    "m = [[1, 2, 3],\n",
    "    [4, 5, 6],\n",
    "    [7, 8, 9]]\n",
    "\n",
    "print(m[1][2])"
   ]
  },
  {
   "cell_type": "code",
   "execution_count": 40,
   "id": "7ae2a6d1",
   "metadata": {},
   "outputs": [
    {
     "name": "stdout",
     "output_type": "stream",
     "text": [
      "7\n"
     ]
    }
   ],
   "source": [
    "#extracting multiple elements\n",
    "m = [[1, 2, 3],\n",
    "    [4, 5, 6],\n",
    "    [7, 8, 9]]\n",
    "out_val = []\n",
    "for i in m:\n",
    "#every element in m is now stored/replaced with i\n",
    "    out_val.append(i[0])\n",
    "#this line implies that i am appending only position 0 to out_val and not the whole i\n",
    "#N/B; when appending, it is the location of the columns that are appended\n",
    "print(out_val[2])"
   ]
  },
  {
   "cell_type": "code",
   "execution_count": 3,
   "id": "b5082093",
   "metadata": {},
   "outputs": [
    {
     "name": "stdout",
     "output_type": "stream",
     "text": [
      "8\n"
     ]
    }
   ],
   "source": [
    "out_val2 = []\n",
    "for i in m:\n",
    "    out_val2.append(i[1])\n",
    "#appending i at position 1\n",
    "print(out_val2[2])    \n",
    "     "
   ]
  },
  {
   "cell_type": "code",
   "execution_count": 4,
   "id": "61e3e027",
   "metadata": {},
   "outputs": [
    {
     "name": "stdout",
     "output_type": "stream",
     "text": [
      "0\n",
      "1\n",
      "2\n"
     ]
    }
   ],
   "source": [
    "m = [[1, 2, 3],\n",
    "    [4, 5, 6],\n",
    "    [7, 8, 9]]\n",
    "for i in range(0, len(m)):\n",
    "#len(m) is used because in the case of a big exhaustive data, it counts according to the arguments of range (i.e. start, end); it ends whereever the length of m ends\n",
    "    print(i)\n",
    "#this kind of output was returned because the length is 3 so the range will return so, starting from 0 to 2"
   ]
  },
  {
   "cell_type": "code",
   "execution_count": 7,
   "id": "6237d3df",
   "metadata": {},
   "outputs": [
    {
     "name": "stdout",
     "output_type": "stream",
     "text": [
      "1\n",
      "5\n",
      "9\n"
     ]
    }
   ],
   "source": [
    "m = [[1, 2, 3],\n",
    "    [4, 5, 6],\n",
    "    [7, 8, 9]]\n",
    "for i in range(0, len(m)):\n",
    "      print(m[i][i])\n",
    "#note that we have assigned task to i such as start returning from 0\n",
    "#this is how it works; i in the first matrix which is at position 0, returns at 0 then iterates to matrix no 1 and returns at 1, then to matix no 2 and returns at 2\n",
    "#at row 0, it returns the corresponding column and then iterates to 1 until len(m) is exhausted"
   ]
  },
  {
   "cell_type": "code",
   "execution_count": 10,
   "id": "a9cd8175",
   "metadata": {},
   "outputs": [
    {
     "name": "stdout",
     "output_type": "stream",
     "text": [
      "1\n",
      "9\n",
      "5\n"
     ]
    }
   ],
   "source": [
    "m = [[1, 2, 3],\n",
    "    [4, 5, 6],\n",
    "    [7, 8, 9]]\n",
    "for i in range(0, len(m)):\n",
    "    print(m[-i][-i])"
   ]
  },
  {
   "cell_type": "code",
   "execution_count": 11,
   "id": "515e900f",
   "metadata": {},
   "outputs": [
    {
     "name": "stdout",
     "output_type": "stream",
     "text": [
      "1\n",
      "6\n",
      "8\n"
     ]
    }
   ],
   "source": [
    "m = [[1, 2, 3],\n",
    "    [4, 5, 6],\n",
    "    [7, 8, 9]]\n",
    "for i in range(0, len(m)):\n",
    "    print(m[i][-i])"
   ]
  },
  {
   "cell_type": "code",
   "execution_count": 13,
   "id": "952728b1",
   "metadata": {},
   "outputs": [
    {
     "name": "stdout",
     "output_type": "stream",
     "text": [
      "9\n",
      "1\n",
      "5\n",
      "9\n"
     ]
    }
   ],
   "source": [
    "\n",
    "m = [[1, 2, 3],\n",
    "    [4, 5, 6],\n",
    "    [7, 8, 9]]\n",
    "for i in range(-1, len(m)):\n",
    "    print(m[i][i])"
   ]
  },
  {
   "cell_type": "code",
   "execution_count": null,
   "id": "8be68d6f",
   "metadata": {},
   "outputs": [],
   "source": []
  },
  {
   "cell_type": "code",
   "execution_count": null,
   "id": "c77d1f76",
   "metadata": {},
   "outputs": [],
   "source": [
    "m = [[1, 2, 3],\n",
    "    [4, 5, 6],\n",
    "    [7, 8, 9]]\n",
    "for i in range()"
   ]
  }
 ],
 "metadata": {
  "kernelspec": {
   "display_name": "Python 3 (ipykernel)",
   "language": "python",
   "name": "python3"
  },
  "language_info": {
   "codemirror_mode": {
    "name": "ipython",
    "version": 3
   },
   "file_extension": ".py",
   "mimetype": "text/x-python",
   "name": "python",
   "nbconvert_exporter": "python",
   "pygments_lexer": "ipython3",
   "version": "3.9.7"
  }
 },
 "nbformat": 4,
 "nbformat_minor": 5
}
