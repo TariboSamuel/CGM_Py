{
 "cells": [
  {
   "cell_type": "code",
   "execution_count": null,
   "id": "4eefbd2e",
   "metadata": {},
   "outputs": [],
   "source": []
  },
  {
   "cell_type": "code",
   "execution_count": null,
   "id": "b99afca7",
   "metadata": {},
   "outputs": [],
   "source": [
    "array = [3, 5, \"timi\", 3, \"jane\", 5, 4, 3, 4, 3, 3, \"timi\"]\n",
    "dict_arr = {}\n",
    "for i in array:\n",
    "    dict_arr[i] = dict_arr.get(i,0)+1\n",
    "#this line loops through i, gets the value of i and counts them\n",
    "print(dict_arr)"
   ]
  },
  {
   "cell_type": "code",
   "execution_count": null,
   "id": "1bbcc59d",
   "metadata": {},
   "outputs": [],
   "source": [
    "counts = []\n",
    "for i, j in dict_arr.items():\n",
    "    counts.append(j)\n",
    "print(counts)"
   ]
  },
  {
   "cell_type": "code",
   "execution_count": null,
   "id": "f6241eae",
   "metadata": {},
   "outputs": [],
   "source": [
    "d_max = counts[0]\n",
    "#from position 0\n",
    "for i in counts:\n",
    "    if i > d_max:\n",
    "        d_max = i\n",
    "print(d_max)"
   ]
  },
  {
   "cell_type": "code",
   "execution_count": null,
   "id": "39069e22",
   "metadata": {},
   "outputs": [],
   "source": [
    "#another max method\n",
    "counts.sort()\n",
    "print(counts)\n",
    "print(d_max)"
   ]
  },
  {
   "cell_type": "code",
   "execution_count": null,
   "id": "d9b858ed",
   "metadata": {},
   "outputs": [],
   "source": [
    "for k, n in dict_arr.items():\n",
    "    if n == d_max:\n",
    "        print(k)\n"
   ]
  },
  {
   "cell_type": "code",
   "execution_count": null,
   "id": "9948e01f",
   "metadata": {},
   "outputs": [],
   "source": [
    "counts.sort()"
   ]
  },
  {
   "cell_type": "code",
   "execution_count": null,
   "id": "b9b49bf8",
   "metadata": {},
   "outputs": [],
   "source": [
    "print(counts)\n",
    "#returns the values in sort"
   ]
  },
  {
   "cell_type": "code",
   "execution_count": null,
   "id": "63cb1973",
   "metadata": {},
   "outputs": [],
   "source": [
    "counts.reverse()\n",
    "#returns the reverse of the count\n"
   ]
  },
  {
   "cell_type": "code",
   "execution_count": null,
   "id": "622cd44a",
   "metadata": {},
   "outputs": [],
   "source": [
    "counts\n",
    "#implicit printing"
   ]
  },
  {
   "cell_type": "code",
   "execution_count": null,
   "id": "e88d3125",
   "metadata": {},
   "outputs": [],
   "source": [
    "dict_arr"
   ]
  },
  {
   "cell_type": "code",
   "execution_count": null,
   "id": "ada06ce1",
   "metadata": {},
   "outputs": [],
   "source": [
    "#while loops"
   ]
  },
  {
   "cell_type": "code",
   "execution_count": 2,
   "id": "506e4ca9",
   "metadata": {},
   "outputs": [
    {
     "name": "stdout",
     "output_type": "stream",
     "text": [
      "11\n",
      "12\n",
      "13\n",
      "14\n",
      "15\n",
      "16\n",
      "17\n",
      "18\n",
      "19\n",
      "20\n"
     ]
    }
   ],
   "source": [
    "i = 10\n",
    "while i < 20:\n",
    "    #print(i)\n",
    "#returns i provided i is less than 20\n",
    "    i = i +1\n",
    "    print(i)\n",
    "#provided i s less than 20, it keeps on adding 1 to i but the output will be < 20 "
   ]
  },
  {
   "cell_type": "code",
   "execution_count": null,
   "id": "25125eae",
   "metadata": {},
   "outputs": [],
   "source": [
    "guess_here = 10\n",
    "guess_count = 0\n",
    "number_guess = 3 \n",
    "\n",
    "while guess_count < number_guess:\n",
    "#provided\n",
    "    guess = int(input(\"enter guess: \"))\n",
    "    guess_count = guess_count + 1\n",
    "    if guess_here == guess:\n",
    "        print(\"your guess was right\")\n",
    "    else:\n",
    "        print(\"guess again\")\n",
    "else:\n",
    "        print(\"game over!!!!\")"
   ]
  },
  {
   "cell_type": "code",
   "execution_count": 5,
   "id": "4b0187e8",
   "metadata": {},
   "outputs": [
    {
     "name": "stdout",
     "output_type": "stream",
     "text": [
      "The sum is 165\n"
     ]
    }
   ],
   "source": [
    "n = 20\n",
    "sum = 0\n",
    "i = 10\n",
    "while i <= n:\n",
    "    sum = sum + i\n",
    "    i = i+1\n",
    "print(\"The sum is\", sum)"
   ]
  },
  {
   "cell_type": "code",
   "execution_count": 2,
   "id": "080fdc26",
   "metadata": {},
   "outputs": [
    {
     "name": "stdout",
     "output_type": "stream",
     "text": [
      "[{'name': 'tobi', 'scores': {'eng': 55, 'math': 75, 'econs': 95}, 'class': 'ss1', 'family': 'single'}, {'name': 'manuel', 'scores': {'eng': 44, 'math': 65, 'econs': 79}, 'class': 'ss2', 'family': 'single'}]\n"
     ]
    }
   ],
   "source": [
    "dict_data = [{\"name\":\"tobi\", \"scores\": {\"eng\": 55,\n",
    "                                       \"math\": 75,\n",
    "                                       \"econs\": 95},\n",
    "             \"class\": \"ss1\",\n",
    "             \"family\": \"single\"},\n",
    "            {\"name\": \"manuel\", \"scores\": {\"eng\": 44,\n",
    "                                         \"math\": 65,\n",
    "                                         \"econs\": 79},\n",
    "            \"class\": \"ss2\",\n",
    "            \"family\": \"single\"}]\n",
    "print(dict_data)"
   ]
  },
  {
   "cell_type": "code",
   "execution_count": null,
   "id": "8bb12b6f",
   "metadata": {},
   "outputs": [],
   "source": [
    "1. find the average scores for each of the student\n",
    "2. add that average score inside the dictionary i.e : \"average\":50\n",
    "3. write a query that will select all students in a. ss2\n",
    "b. both\n",
    "4. what is the modal score for tobi"
   ]
  },
  {
   "cell_type": "code",
   "execution_count": 8,
   "id": "b7906bc7",
   "metadata": {},
   "outputs": [
    {
     "name": "stdout",
     "output_type": "stream",
     "text": [
      "[{'name': 'tobi', 'scores': {'eng': 55, 'math': 75, 'econs': 95}, 'class': 'ss1', 'family': 'single', 'average': 75.0}, {'name': 'manuel', 'scores': {'eng': 44, 'math': 65, 'econs': 79}, 'class': 'ss2', 'family': 'single', 'average': 62.666666666666664}]\n"
     ]
    }
   ],
   "source": [
    "for i in range(len(dict_data)):\n",
    "    arr = []\n",
    "    for k, v in dict_data[i][\"scores\"].items():\n",
    "        arr.append(v)\n",
    "    \n",
    "    score = sum(arr)\n",
    "    length = len(arr)\n",
    "    avg = score / length\n",
    "    \n",
    "    dict_data[i][\"average\"] = avg\n",
    "\n",
    "print(dict_data)"
   ]
  },
  {
   "cell_type": "code",
   "execution_count": 33,
   "id": "8ee441f3",
   "metadata": {},
   "outputs": [
    {
     "name": "stdout",
     "output_type": "stream",
     "text": [
      "[[55, 75, 95], [44, 65, 79]]\n"
     ]
    }
   ],
   "source": [
    "new_scores =[]\n",
    "for i in dict_data:\n",
    "    arr = []\n",
    "    score_val = i[\"scores\"]\n",
    "    for n, j in score_val.items():\n",
    "#what this line does is that it loops through the key and the value dealing with them by part\n",
    "        arr.append(j)\n",
    "#only the value should be appended into arr\n",
    "    new_scores.append(arr)\n",
    "    \n",
    "    \n",
    "# print(new_scores)\n",
    "    "
   ]
  },
  {
   "cell_type": "code",
   "execution_count": 34,
   "id": "b88522ce",
   "metadata": {},
   "outputs": [
    {
     "name": "stdout",
     "output_type": "stream",
     "text": [
      "[55, 75, 95]\n",
      "[44, 65, 79]\n"
     ]
    }
   ],
   "source": [
    "solution_1\n",
    "tobi_score = (new_scores[0])\n",
    "print(tobi_score)\n",
    "\n",
    "manuel_score = (new_scores[1])\n",
    "print(manuel_score)"
   ]
  },
  {
   "cell_type": "code",
   "execution_count": 51,
   "id": "11d30501",
   "metadata": {},
   "outputs": [
    {
     "name": "stdout",
     "output_type": "stream",
     "text": [
      "225\n",
      "75.0\n",
      "188\n",
      "62.666666666666664\n"
     ]
    }
   ],
   "source": [
    "summ = 0\n",
    "for s in tobi_score:\n",
    "    summ = s + summ\n",
    "print(summ)\n",
    "\n",
    "avg_tobi = summ/len(tobi_score)\n",
    "print(avg_tobi)\n",
    "\n",
    "\n",
    "\n",
    "\n",
    "summ = 0\n",
    "for r in manuel_score:\n",
    "    summ = summ + r\n",
    "print(summ)\n",
    "avg_manuel= summ/len(manuel_score)\n",
    "print(avg_manuel)\n"
   ]
  },
  {
   "cell_type": "code",
   "execution_count": null,
   "id": "734d1175",
   "metadata": {},
   "outputs": [],
   "source": []
  },
  {
   "cell_type": "code",
   "execution_count": null,
   "id": "ee6eb345",
   "metadata": {},
   "outputs": [],
   "source": []
  }
 ],
 "metadata": {
  "kernelspec": {
   "display_name": "Python 3 (ipykernel)",
   "language": "python",
   "name": "python3"
  },
  "language_info": {
   "codemirror_mode": {
    "name": "ipython",
    "version": 3
   },
   "file_extension": ".py",
   "mimetype": "text/x-python",
   "name": "python",
   "nbconvert_exporter": "python",
   "pygments_lexer": "ipython3",
   "version": "3.9.7"
  }
 },
 "nbformat": 4,
 "nbformat_minor": 5
}
