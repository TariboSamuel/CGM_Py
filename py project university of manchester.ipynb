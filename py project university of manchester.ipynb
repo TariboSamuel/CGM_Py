{
 "cells": [
  {
   "cell_type": "markdown",
   "id": "d53e50ac",
   "metadata": {},
   "source": [
    "# Exercise 3.8"
   ]
  },
  {
   "cell_type": "code",
   "execution_count": null,
   "id": "5843d6c6",
   "metadata": {},
   "outputs": [],
   "source": [
    "import random\n",
    "import numpy as np"
   ]
  },
  {
   "cell_type": "markdown",
   "id": "7a65853a",
   "metadata": {},
   "source": [
    "# 1"
   ]
  },
  {
   "cell_type": "code",
   "execution_count": null,
   "id": "03cb3b13",
   "metadata": {},
   "outputs": [],
   "source": [
    "ran = np.random.randint(low = 3, high = 6, size=(50))\n",
    "print(ran)"
   ]
  },
  {
   "cell_type": "markdown",
   "id": "125e0789",
   "metadata": {},
   "source": [
    "# 2"
   ]
  },
  {
   "cell_type": "code",
   "execution_count": null,
   "id": "89071027",
   "metadata": {},
   "outputs": [],
   "source": [
    "x = np.random.randint(low = 1, high = 50, size=(1))\n",
    "print(x)\n",
    "y = np.random.randint(low = 2, high = 5, size=(1))\n",
    "print(y)\n",
    "\n",
    "new_val = x**y\n",
    "print(new_val)"
   ]
  },
  {
   "cell_type": "markdown",
   "id": "deeeddba",
   "metadata": {},
   "source": [
    "# 3"
   ]
  },
  {
   "cell_type": "code",
   "execution_count": null,
   "id": "bfc9fe31",
   "metadata": {},
   "outputs": [],
   "source": [
    "arr = []\n",
    "ran = np.random.randint(low = 1, high = 50, size=(1))\n",
    "# print(ran)\n",
    "for i in ran:\n",
    "    arr.append(ran)\n",
    "# print(arr)\n",
    "# for i in arr:\n",
    "#     print(\"samuel\")\n",
    "for i in len(arr):\n",
    "    print(\"samuel\")"
   ]
  },
  {
   "cell_type": "code",
   "execution_count": null,
   "id": "94132ee9",
   "metadata": {},
   "outputs": [],
   "source": [
    "def randint(x, y):\n",
    "    r = random.randint(x, y)\n",
    "    return r\n",
    "\n",
    "randint(1,50)\n",
    "for i in randit:\n",
    "    print(\"samuel\")"
   ]
  },
  {
   "cell_type": "markdown",
   "id": "393e68e0",
   "metadata": {},
   "source": [
    "# 4"
   ]
  },
  {
   "cell_type": "code",
   "execution_count": null,
   "id": "3aac2c0d",
   "metadata": {},
   "outputs": [],
   "source": [
    "val = random.uniform(1, 10)\n",
    "new_val = round(val, 2)\n",
    "print(new_val)"
   ]
  },
  {
   "cell_type": "markdown",
   "id": "e09cd9b2",
   "metadata": {},
   "source": [
    "# 5"
   ]
  },
  {
   "cell_type": "code",
   "execution_count": null,
   "id": "089e4efc",
   "metadata": {},
   "outputs": [],
   "source": [
    "num = np.random.randint(low = 1, high = 2, size=(50))\n",
    "print(num)"
   ]
  },
  {
   "cell_type": "code",
   "execution_count": null,
   "id": "0bd1be7a",
   "metadata": {},
   "outputs": [],
   "source": [
    "for (i in 1:50){\n",
    "  print(sample(1:i+1, 1))\n",
    "}"
   ]
  },
  {
   "cell_type": "code",
   "execution_count": null,
   "id": "bc031cad",
   "metadata": {},
   "outputs": [],
   "source": [
    "def randint(x, y, z):\n",
    "    r = random.randint(x, y, z)\n",
    "    return r\n",
    "\n",
    "randint(1, 2, 50)"
   ]
  },
  {
   "cell_type": "code",
   "execution_count": null,
   "id": "3a95731e",
   "metadata": {},
   "outputs": [],
   "source": []
  },
  {
   "cell_type": "code",
   "execution_count": null,
   "id": "2a69d37f",
   "metadata": {},
   "outputs": [],
   "source": []
  },
  {
   "cell_type": "markdown",
   "id": "6f7c54fa",
   "metadata": {},
   "source": [
    "# 6"
   ]
  },
  {
   "cell_type": "code",
   "execution_count": null,
   "id": "d4dc13b9",
   "metadata": {},
   "outputs": [],
   "source": [
    "x = int(input(\"enter the value for x\"))\n",
    "y = int(input(\"enter the value for y\"))\n",
    "\n",
    "val_1 = x - y\n",
    "if val_1 < 0:\n",
    "    val_1 = x * -1\n",
    "# print(val_1)\n",
    "\n",
    "val_2 = x + y\n",
    "num_val = (val_1)/val_2\n",
    "print(num_val)"
   ]
  },
  {
   "cell_type": "markdown",
   "id": "160f30c6",
   "metadata": {},
   "source": [
    "# 7"
   ]
  },
  {
   "cell_type": "code",
   "execution_count": 1,
   "id": "11f712f9",
   "metadata": {},
   "outputs": [
    {
     "name": "stdout",
     "output_type": "stream",
     "text": [
      "enter angle between -180 and 18079\n",
      "your angle is 259.0 degrees \n"
     ]
    }
   ],
   "source": [
    "user_response = float(input(\"enter angle between -180 and 180\"))\n",
    "angle = user_response + 180\n",
    "angle_val = (angle % 360)\n",
    "print(f\"your angle is {angle_val} degrees \")"
   ]
  },
  {
   "cell_type": "markdown",
   "id": "d38f3a45",
   "metadata": {},
   "source": [
    "# 8"
   ]
  },
  {
   "cell_type": "code",
   "execution_count": null,
   "id": "d9c969aa",
   "metadata": {},
   "outputs": [],
   "source": [
    "user_response = int(input(\"enter the number of seconds\"))\n",
    "time_sec = user_response % 60\n",
    "time_min = user_response // 60\n",
    "\n",
    "print(f\"your answer is {time_min} minutes and {time_sec} seconds \")"
   ]
  },
  {
   "cell_type": "markdown",
   "id": "7353e30b",
   "metadata": {},
   "source": [
    "# 9"
   ]
  },
  {
   "cell_type": "code",
   "execution_count": null,
   "id": "002396cc",
   "metadata": {},
   "outputs": [],
   "source": [
    "present_hour = int(input(\"enter an angle between 1 and 12\"))\n",
    "future_hour = int(input(\"how many hours do you want to go in the future?\"))\n",
    "new_hour = present_hour + future_hour\n",
    "if new_hour > 12:\n",
    "    print(new_hour % 12)"
   ]
  },
  {
   "cell_type": "markdown",
   "id": "e05dce87",
   "metadata": {},
   "source": [
    "# 10"
   ]
  },
  {
   "cell_type": "markdown",
   "id": "b2a02396",
   "metadata": {},
   "source": [
    "# a"
   ]
  },
  {
   "cell_type": "code",
   "execution_count": 2,
   "id": "d10351ca",
   "metadata": {},
   "outputs": [
    {
     "name": "stdout",
     "output_type": "stream",
     "text": [
      "enter the value for power: 3\n",
      "8\n"
     ]
    }
   ],
   "source": [
    "power = int(input(\"enter the value for power: \"))\n",
    "last_digit = 2 ** power \n",
    "print(last_digit % 10)"
   ]
  },
  {
   "cell_type": "markdown",
   "id": "737ef585",
   "metadata": {},
   "source": [
    "# b"
   ]
  },
  {
   "cell_type": "code",
   "execution_count": 4,
   "id": "43edd490",
   "metadata": {},
   "outputs": [
    {
     "name": "stdout",
     "output_type": "stream",
     "text": [
      "enter the value for power: 2\n",
      "4\n"
     ]
    }
   ],
   "source": [
    "power = int(input(\"enter the value for power: \"))\n",
    "last_digit = 2 ** power\n",
    "ans = last_digit % 100\n",
    "print(ans)"
   ]
  },
  {
   "cell_type": "markdown",
   "id": "1f1eb8e3",
   "metadata": {},
   "source": [
    "# c"
   ]
  },
  {
   "cell_type": "code",
   "execution_count": 9,
   "id": "81a6e520",
   "metadata": {},
   "outputs": [
    {
     "name": "stdout",
     "output_type": "stream",
     "text": [
      "enter the value for power2\n",
      "enter the number of digits8\n",
      "4\n"
     ]
    }
   ],
   "source": [
    "power = int(input(\"enter the value for power\"))\n",
    "user_digit = int(input(\"enter the number of digits\"))\n",
    "\n",
    "ans = 2**power  #calculate power\n",
    "ans = ans % (10 ** user_digit)\n",
    "print(ans)\n"
   ]
  },
  {
   "cell_type": "markdown",
   "id": "20b6888e",
   "metadata": {},
   "source": [
    "# or"
   ]
  },
  {
   "cell_type": "code",
   "execution_count": 16,
   "id": "1df5d243",
   "metadata": {},
   "outputs": [
    {
     "name": "stdout",
     "output_type": "stream",
     "text": [
      "enter two to the power of 45\n",
      "last how many digits? 2\n",
      "32\n"
     ]
    }
   ],
   "source": [
    "power = int(input(\"enter two to the power of \"))\n",
    "digits = int(input(\"last how many digits? \"))\n",
    "\n",
    "num = 2 ** power #calculate power\n",
    "num = str(num) #to calculate with string because int is not subscritable\n",
    "num = num[-digits:]  #to get last n digits\n",
    "num = int(num)  \n",
    "print(num)"
   ]
  },
  {
   "cell_type": "markdown",
   "id": "45f802d5",
   "metadata": {},
   "source": [
    "# 11"
   ]
  },
  {
   "cell_type": "code",
   "execution_count": 2,
   "id": "c5618157",
   "metadata": {},
   "outputs": [
    {
     "name": "stdout",
     "output_type": "stream",
     "text": [
      "enter weight in kg87\n",
      " your weight is 191.8lb\n"
     ]
    }
   ],
   "source": [
    "weight = float(input(\"enter weight in kg\"))\n",
    "weight_lb = weight * 2.205\n",
    "new_weight_lb = round(weight_lb, 1)\n",
    "print(' your weight is {}lb'.format(new_weight_lb))"
   ]
  },
  {
   "cell_type": "markdown",
   "id": "69b820ac",
   "metadata": {},
   "source": [
    "# 12"
   ]
  },
  {
   "cell_type": "code",
   "execution_count": null,
   "id": "e5e59c98",
   "metadata": {},
   "outputs": [],
   "source": [
    "num_fact = int(input(\"enter a number\"))\n",
    "for i in num_fact:\n",
    "    "
   ]
  },
  {
   "cell_type": "code",
   "execution_count": null,
   "id": "d1e8fe8b",
   "metadata": {},
   "outputs": [],
   "source": []
  },
  {
   "cell_type": "code",
   "execution_count": 6,
   "id": "d7d67c46",
   "metadata": {},
   "outputs": [
    {
     "name": "stdout",
     "output_type": "stream",
     "text": [
      "Enter an angle \n",
      "45\n",
      "0.8509035245341184\n",
      "0.5253219888177297\n",
      "1.6197751905438615\n"
     ]
    }
   ],
   "source": [
    "import math\n",
    "angle = float(input('Enter an angle \\n'))\n",
    "\n",
    "sine = math.sin(angle)\n",
    "cosine = math.cos(angle)\n",
    "tangent = math.tan(angle)\n",
    "\n",
    "print(sine)\n",
    "print(cosine)\n",
    "print(tangent)"
   ]
  },
  {
   "cell_type": "code",
   "execution_count": null,
   "id": "c98493d9",
   "metadata": {},
   "outputs": [],
   "source": []
  },
  {
   "cell_type": "code",
   "execution_count": null,
   "id": "b79dc8bf",
   "metadata": {},
   "outputs": [],
   "source": []
  },
  {
   "cell_type": "code",
   "execution_count": null,
   "id": "be6e8df7",
   "metadata": {},
   "outputs": [],
   "source": []
  },
  {
   "cell_type": "code",
   "execution_count": null,
   "id": "f220383d",
   "metadata": {},
   "outputs": [],
   "source": []
  }
 ],
 "metadata": {
  "kernelspec": {
   "display_name": "Python 3 (ipykernel)",
   "language": "python",
   "name": "python3"
  },
  "language_info": {
   "codemirror_mode": {
    "name": "ipython",
    "version": 3
   },
   "file_extension": ".py",
   "mimetype": "text/x-python",
   "name": "python",
   "nbconvert_exporter": "python",
   "pygments_lexer": "ipython3",
   "version": "3.9.7"
  },
  "varInspector": {
   "cols": {
    "lenName": 16,
    "lenType": 16,
    "lenVar": 40
   },
   "kernels_config": {
    "python": {
     "delete_cmd_postfix": "",
     "delete_cmd_prefix": "del ",
     "library": "var_list.py",
     "varRefreshCmd": "print(var_dic_list())"
    },
    "r": {
     "delete_cmd_postfix": ") ",
     "delete_cmd_prefix": "rm(",
     "library": "var_list.r",
     "varRefreshCmd": "cat(var_dic_list()) "
    }
   },
   "types_to_exclude": [
    "module",
    "function",
    "builtin_function_or_method",
    "instance",
    "_Feature"
   ],
   "window_display": false
  }
 },
 "nbformat": 4,
 "nbformat_minor": 5
}
