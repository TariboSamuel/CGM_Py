{
 "cells": [
  {
   "cell_type": "code",
   "execution_count": 14,
   "id": "f0773c0b",
   "metadata": {},
   "outputs": [
    {
     "name": "stdout",
     "output_type": "stream",
     "text": [
      "[20, 35.1]\n"
     ]
    }
   ],
   "source": [
    "y = [\"Jude\", \"Thelma\", True, \"yes\", 20, 35.1]\n",
    "strng = []\n",
    "numbers = []\n",
    "booleans = []\n",
    "for i in y:\n",
    "    if type(i) == str:\n",
    "        strng.append(i)\n",
    "#to append means to add an element (i) to another element (strng)\n",
    "    elif type(i) == bool:\n",
    "        booleans.append(i)\n",
    "    else:\n",
    "        numbers.append(i)\n",
    "print(numbers)"
   ]
  },
  {
   "cell_type": "code",
   "execution_count": 4,
   "id": "a398d661",
   "metadata": {},
   "outputs": [
    {
     "name": "stdout",
     "output_type": "stream",
     "text": [
      "<class 'str'>\n"
     ]
    }
   ],
   "source": [
    "#this line returns the class of the character Thelma\n",
    "# print(type(\"Thelma\"))"
   ]
  },
  {
   "cell_type": "code",
   "execution_count": 3,
   "id": "4430945e",
   "metadata": {},
   "outputs": [
    {
     "name": "stdout",
     "output_type": "stream",
     "text": [
      "[1.0, 1.7320508075688772, 2.23606797749979, 2.6457513110645907, 3.0, 3.3166247903554, 3.605551275463989, 3.872983346207417, 4.123105625617661, 4.358898943540674, 4.58257569495584, 4.795831523312719, 5.0, 5.196152422706632, 5.385164807134504, 5.5677643628300215, 5.744562646538029, 5.916079783099616, 6.082762530298219, 6.244997998398398, 6.4031242374328485, 6.557438524302, 6.708203932499369, 6.855654600401044, 7.0]\n"
     ]
    }
   ],
   "source": [
    "#this program computes the list of no's \n",
    "vals = []\n",
    "for i in range(1, 50+1):\n",
    "    if i%2 != 0:\n",
    "#this condition implies odd i.e. if i/2 doesn't have a remainder\n",
    "        a = i**(1/2)\n",
    "#a equals the square root of i\n",
    "        vals.append(a)\n",
    "#htis line means add a to vals\n",
    "print(vals)"
   ]
  },
  {
   "cell_type": "code",
   "execution_count": 6,
   "id": "fbe6bf02",
   "metadata": {},
   "outputs": [
    {
     "name": "stdout",
     "output_type": "stream",
     "text": [
      "[1.0, 1.7320508075688772, 2.23606797749979, 2.6457513110645907, 3.0, 3.3166247903554, 3.605551275463989, 3.872983346207417, 4.123105625617661, 4.358898943540674, 4.58257569495584, 4.795831523312719, 5.0, 5.196152422706632, 5.385164807134504, 5.5677643628300215, 5.744562646538029, 5.916079783099616, 6.082762530298219, 6.244997998398398, 6.4031242374328485, 6.557438524302, 6.708203932499369, 6.855654600401044, 7.0]\n"
     ]
    }
   ],
   "source": [
    "#this is the same as the above\n",
    "number_vals = [(i**(1/2)) for i in range(1, 50+1) if i%2!=0]\n",
    "print(number_vals)"
   ]
  },
  {
   "cell_type": "code",
   "execution_count": 7,
   "id": "f16fd4f3",
   "metadata": {},
   "outputs": [
    {
     "name": "stdout",
     "output_type": "stream",
     "text": [
      "1.0\n"
     ]
    }
   ],
   "source": [
    "#computing the mean\n",
    "sum_val = 0\n",
    "for i in number_vals:\n",
    "    sum_val = sum_val + 1\n",
    "total_sum = round((sum_val), 2)\n",
    "mean = total_sum/len(number_vals)\n",
    "print(mean)\n",
    "\n"
   ]
  },
  {
   "cell_type": "code",
   "execution_count": 8,
   "id": "8a08f6ad",
   "metadata": {},
   "outputs": [
    {
     "name": "stdout",
     "output_type": "stream",
     "text": [
      "4\n"
     ]
    }
   ],
   "source": [
    "vals =[10, 12.5, 8, 9.5, 6, 11.5, 7, 4]\n",
    "pos= vals[0]\n",
    "for i in vals:\n",
    "    if i < pos:\n",
    "        pos = i\n",
    "print(pos)"
   ]
  },
  {
   "cell_type": "code",
   "execution_count": 22,
   "id": "e05f0237",
   "metadata": {},
   "outputs": [
    {
     "name": "stdout",
     "output_type": "stream",
     "text": [
      "[6, 6, 6, 6]\n"
     ]
    }
   ],
   "source": [
    "#computing (u-x)\n",
    "x = [10, 15, 20, 30]\n",
    "u = [15, 21, 28, 39]\n",
    "diff = []\n",
    "if len(x) == len(u):\n",
    "#considering the length of u and x before subtracting to avoid error due to incomplete length \n",
    "    for i in range(0, len(u)):\n",
    "#the range function returns a sequence of no's starting from 0 by default, and increments by 1 (by default), and stops before a specified number. \n",
    "        diff_val = u[1] - x[1]\n",
    "#the difference formula\n",
    "        diff.append(diff_val)\n",
    "    print(diff)\n",
    "#print(diff)\n",
    "else:\n",
    "    print(false)"
   ]
  },
  {
   "cell_type": "code",
   "execution_count": 9,
   "id": "e578190e",
   "metadata": {},
   "outputs": [
    {
     "name": "stdout",
     "output_type": "stream",
     "text": [
      "0\n",
      "1\n",
      "2\n",
      "3\n",
      "4\n",
      "5\n"
     ]
    }
   ],
   "source": [
    "# #create a sequence of numbers from 0 to 5,and print each item in the sequence:\n",
    "# x = range(6)\n",
    "# for i in x:\n",
    "#     print(i)"
   ]
  },
  {
   "cell_type": "code",
   "execution_count": 11,
   "id": "398bf138",
   "metadata": {},
   "outputs": [
    {
     "name": "stdout",
     "output_type": "stream",
     "text": [
      "3\n",
      "4\n",
      "5\n"
     ]
    }
   ],
   "source": [
    "# #create a sequence of numbers from 3 to 5, and print each item in the sequence: \n",
    "# x = range(3, 6)\n",
    "# for i in x:\n",
    "#     print(i)"
   ]
  },
  {
   "cell_type": "code",
   "execution_count": 12,
   "id": "dd527803",
   "metadata": {},
   "outputs": [
    {
     "name": "stdout",
     "output_type": "stream",
     "text": [
      "3\n",
      "5\n",
      "7\n",
      "9\n",
      "11\n",
      "13\n",
      "15\n",
      "17\n",
      "19\n"
     ]
    }
   ],
   "source": [
    "# #create a sequence of no's from 3 to 19, but increment by 2 instead of 1\n",
    "# x = range(3, 20, 2)\n",
    "# for i in x:\n",
    "#     print(i)"
   ]
  },
  {
   "cell_type": "code",
   "execution_count": 13,
   "id": "2c620c3e",
   "metadata": {},
   "outputs": [
    {
     "name": "stdout",
     "output_type": "stream",
     "text": [
      "jack\n",
      "susan\n",
      "jasmine\n"
     ]
    }
   ],
   "source": [
    "#using the not in syntax\n",
    "a = [\"ben\",\"bode\", \"phil\", \"tope\"]\n",
    "d = [\"phil\", \"jack\", \"susan\", \"bode\", \"jasmine\"]\n",
    "\n",
    "for i in d:\n",
    "    if i not in a:\n",
    "#characters in d but not in a\n",
    "        print(i)"
   ]
  },
  {
   "cell_type": "code",
   "execution_count": 26,
   "id": "405daa77",
   "metadata": {},
   "outputs": [
    {
     "name": "stdout",
     "output_type": "stream",
     "text": [
      "18.75\n"
     ]
    }
   ],
   "source": [
    "#calculating standard deviation\n",
    "x = [10,15, 20, 30]\n",
    "mean = sum(x)/len(x)\n",
    "print(mean)"
   ]
  },
  {
   "cell_type": "code",
   "execution_count": 62,
   "id": "e5d5b6ce",
   "metadata": {},
   "outputs": [
    {
     "name": "stdout",
     "output_type": "stream",
     "text": [
      "[76.5625, 14.0625, 1.5625, 126.5625]\n"
     ]
    }
   ],
   "source": [
    "diff_in_mean = []\n",
    "for i in x:\n",
    "    diff_subtract = (i - mean)**2\n",
    "    diff_in_mean.append(diff_subtract)\n",
    "print(diff_in_mean)"
   ]
  },
  {
   "cell_type": "code",
   "execution_count": 63,
   "id": "6f9df28a",
   "metadata": {},
   "outputs": [
    {
     "name": "stdout",
     "output_type": "stream",
     "text": [
      "218.75\n"
     ]
    }
   ],
   "source": [
    "sum_diff_in_mean = sum(diff_in_mean)\n",
    "print(sum_diff_in_mean)"
   ]
  },
  {
   "cell_type": "code",
   "execution_count": 64,
   "id": "20a8dd34",
   "metadata": {},
   "outputs": [
    {
     "name": "stdout",
     "output_type": "stream",
     "text": [
      "54.6875\n"
     ]
    }
   ],
   "source": [
    "deviation = sum_diff_in_mean/len(x)\n",
    "print(deviation)"
   ]
  },
  {
   "cell_type": "code",
   "execution_count": 66,
   "id": "feabbfa8",
   "metadata": {},
   "outputs": [
    {
     "name": "stdout",
     "output_type": "stream",
     "text": [
      "7.39509972887452\n"
     ]
    }
   ],
   "source": [
    "standard_deviation = deviation**(1/2)\n",
    "print(standard_deviation)"
   ]
  },
  {
   "cell_type": "code",
   "execution_count": 16,
   "id": "f63083e1",
   "metadata": {},
   "outputs": [
    {
     "name": "stdout",
     "output_type": "stream",
     "text": [
      "['221.124.127.50']\n"
     ]
    }
   ],
   "source": [
    "#to split and return the last digits of the array\n",
    "ip_addr = [\"192.168.120.15\", \"221.124.127.50\", \"101.124.56.12\"]\n",
    "lst =[]\n",
    "for i in ip_addr:\n",
    "# print(i.split(\".\"))\n",
    "#the spliting part; usinf the delimeter(\".\") \n",
    "     a = int(i.split(\".\")[-1])\n",
    "    #this line spits and gets the index\n",
    "     if a >= 30 and a<=50:\n",
    "            lst.append(i)\n",
    "print(lst)"
   ]
  },
  {
   "cell_type": "code",
   "execution_count": 17,
   "id": "818387f7",
   "metadata": {},
   "outputs": [
    {
     "name": "stdout",
     "output_type": "stream",
     "text": [
      "['Engineering', 'comprises', 'of', 'many', 'courses.']\n"
     ]
    }
   ],
   "source": [
    "# #using the split()function\n",
    "# input = 'Engineering comprises of many courses.'\n",
    "#splits at space\n",
    "# print(input.split())"
   ]
  },
  {
   "cell_type": "code",
   "execution_count": 18,
   "id": "d61ca52a",
   "metadata": {},
   "outputs": [
    {
     "name": "stdout",
     "output_type": "stream",
     "text": [
      "['hello', ' engineering and medical', ' are two different disciplines']\n"
     ]
    }
   ],
   "source": [
    "# input = \"hello, engineering and medical, are two different disciplines\"\n",
    "# #to split (,)\n",
    "# print(input.split(\",\"))"
   ]
  },
  {
   "cell_type": "code",
   "execution_count": 21,
   "id": "403e1a63",
   "metadata": {},
   "outputs": [
    {
     "name": "stdout",
     "output_type": "stream",
     "text": [
      "[[1, 2, 3], [4, 5, 6], [7, 8, 9]]\n"
     ]
    }
   ],
   "source": [
    "#matrices;an array in an array\n",
    "m = [[1, 2, 3],\n",
    "    [4, 5, 6],\n",
    "    [7, 8, 9]]\n",
    "print(m)"
   ]
  },
  {
   "cell_type": "code",
   "execution_count": 22,
   "id": "b237c6e0",
   "metadata": {},
   "outputs": [
    {
     "name": "stdout",
     "output_type": "stream",
     "text": [
      "4\n"
     ]
    }
   ],
   "source": [
    "aa = []\n",
    "for i in m:\n",
    "    aa.append(i[0])\n",
    "#append i at index/position 0 into aa\n",
    "print(aa[1])\n",
    "#now print at position 1 which is 4"
   ]
  },
  {
   "cell_type": "code",
   "execution_count": 29,
   "id": "f7cc62c6",
   "metadata": {},
   "outputs": [
    {
     "name": "stdout",
     "output_type": "stream",
     "text": [
      "[1, 2, 3]\n",
      "[4, 5, 6]\n",
      "[7, 8, 9]\n"
     ]
    }
   ],
   "source": [
    "for i in m:\n",
    "    print(i)\n"
   ]
  },
  {
   "cell_type": "code",
   "execution_count": 24,
   "id": "a5cffeec",
   "metadata": {},
   "outputs": [
    {
     "name": "stdout",
     "output_type": "stream",
     "text": [
      "[[1, 2, 3], [4, 5, 6], [7, 8, 9]]\n"
     ]
    }
   ],
   "source": [
    "print(m)"
   ]
  },
  {
   "cell_type": "code",
   "execution_count": 36,
   "id": "290c08bf",
   "metadata": {},
   "outputs": [
    {
     "name": "stdout",
     "output_type": "stream",
     "text": [
      "[1, 2, 3]\n",
      "[4, 5, 6]\n",
      "[7, 8, 9]\n"
     ]
    }
   ],
   "source": [
    "#it returns the no's according to the range and length \n",
    "for i in range(0, len(m)):\n",
    "    print(m[i][i])"
   ]
  },
  {
   "cell_type": "code",
   "execution_count": null,
   "id": "71b1db7f",
   "metadata": {},
   "outputs": [],
   "source": [
    "#for i in range(0, len(m))\n",
    "#print(m[i][i+1] *-1)\n"
   ]
  },
  {
   "cell_type": "code",
   "execution_count": 34,
   "id": "5e33e0c0",
   "metadata": {},
   "outputs": [
    {
     "name": "stdout",
     "output_type": "stream",
     "text": [
      "1\n",
      "5\n",
      "9\n"
     ]
    }
   ],
   "source": [
    "for i in range(0, len(m)):\n",
    "    print(m[i][i][i])"
   ]
  },
  {
   "cell_type": "code",
   "execution_count": null,
   "id": "5ddf84d2",
   "metadata": {},
   "outputs": [],
   "source": []
  }
 ],
 "metadata": {
  "kernelspec": {
   "display_name": "Python 3 (ipykernel)",
   "language": "python",
   "name": "python3"
  },
  "language_info": {
   "codemirror_mode": {
    "name": "ipython",
    "version": 3
   },
   "file_extension": ".py",
   "mimetype": "text/x-python",
   "name": "python",
   "nbconvert_exporter": "python",
   "pygments_lexer": "ipython3",
   "version": "3.9.7"
  },
  "varInspector": {
   "cols": {
    "lenName": 16,
    "lenType": 16,
    "lenVar": 40
   },
   "kernels_config": {
    "python": {
     "delete_cmd_postfix": "",
     "delete_cmd_prefix": "del ",
     "library": "var_list.py",
     "varRefreshCmd": "print(var_dic_list())"
    },
    "r": {
     "delete_cmd_postfix": ") ",
     "delete_cmd_prefix": "rm(",
     "library": "var_list.r",
     "varRefreshCmd": "cat(var_dic_list()) "
    }
   },
   "types_to_exclude": [
    "module",
    "function",
    "builtin_function_or_method",
    "instance",
    "_Feature"
   ],
   "window_display": false
  }
 },
 "nbformat": 4,
 "nbformat_minor": 5
}
